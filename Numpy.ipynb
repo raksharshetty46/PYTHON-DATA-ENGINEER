{
 "cells": [
  {
   "cell_type": "markdown",
   "id": "5f7bf4fa-290d-4b8a-8942-458704d3cf1e",
   "metadata": {},
   "source": [
    "## **Numpy**\n",
    "----------"
   ]
  },
  {
   "cell_type": "code",
   "execution_count": 3,
   "id": "57e4fbfc-154e-4c61-b559-d9f3b3473f6c",
   "metadata": {},
   "outputs": [],
   "source": [
    "import numpy as np"
   ]
  },
  {
   "cell_type": "markdown",
   "id": "b5a8ba4f-9f0b-4aed-8ea1-dbf2f25b7e26",
   "metadata": {},
   "source": [
    "\n",
    "**Why Numpy Instead Of List:**\n",
    "1. Numpy is faster than List so we are using this one.\n",
    "2. Numpy is built on C, C is a low level language whatever operations C performs that is more faster than python.\n",
    "3. numpy is more efficient\n",
    "4. Direct Operations on Numpy array (Which is also called as vectorization)\n",
    "5. Python List allows mixed datatypes, but in case of numpy arrays it is homogeneous, It stores elemnt of same types.\n",
    "6. Numpy Provides more built in functions compared to Lists."
   ]
  },
  {
   "cell_type": "code",
   "execution_count": 3,
   "id": "c888fc33-f8f3-40a0-9ca6-a68305d5b7a9",
   "metadata": {},
   "outputs": [
    {
     "data": {
      "text/plain": [
       "array([1, 2])"
      ]
     },
     "execution_count": 3,
     "metadata": {},
     "output_type": "execute_result"
    }
   ],
   "source": [
    "np.array([1,2])"
   ]
  },
  {
   "cell_type": "markdown",
   "id": "5eb3f6f3-b1ac-44d1-8a92-b7ad28a75606",
   "metadata": {},
   "source": [
    "----------\n",
    "\n",
    "### **Dimensions and Shape Of an Array**"
   ]
  },
  {
   "cell_type": "markdown",
   "id": "2d4b0d00-7023-4db6-a325-22462cf3ad12",
   "metadata": {},
   "source": [
    "##### **1) 32** - Scalar, 0Dimensional\n",
    "##### **2) [1,2]** -1Dimensional\n",
    "##### **3) [[1,2],[2,6]]** -2Dimensional"
   ]
  },
  {
   "cell_type": "code",
   "execution_count": 5,
   "id": "35abf3a3-eaaf-4953-a1dc-e1a85aa4b268",
   "metadata": {},
   "outputs": [],
   "source": [
    "array1 = np.array(32)\n",
    "array2 = np.array([1,2])\n",
    "array3 = np.array([[1,2],[2,6]])"
   ]
  },
  {
   "cell_type": "code",
   "execution_count": 8,
   "id": "5eea30fa-4004-49ac-bc90-10256571ee6b",
   "metadata": {},
   "outputs": [
    {
     "name": "stdout",
     "output_type": "stream",
     "text": [
      "0\n",
      "1\n",
      "2\n"
     ]
    }
   ],
   "source": [
    "print(array1.ndim)\n",
    "print(array2.ndim)\n",
    "print(array3.ndim)"
   ]
  },
  {
   "cell_type": "code",
   "execution_count": 9,
   "id": "018ecfa4-617a-4bdc-b6e9-76a3923ccf53",
   "metadata": {},
   "outputs": [],
   "source": [
    "array1 = np.array([])\n",
    "array2 = np.array([[]])\n",
    "array3 = np.array([[[]]])"
   ]
  },
  {
   "cell_type": "code",
   "execution_count": 10,
   "id": "66315585-1648-4118-ac57-54b5ddeedbce",
   "metadata": {},
   "outputs": [
    {
     "name": "stdout",
     "output_type": "stream",
     "text": [
      "1\n",
      "2\n",
      "3\n"
     ]
    }
   ],
   "source": [
    "print(array1.ndim)\n",
    "print(array2.ndim)\n",
    "print(array3.ndim)"
   ]
  },
  {
   "cell_type": "markdown",
   "id": "60f9194a-56af-49b8-bc97-61a86280d7af",
   "metadata": {},
   "source": [
    "---------\n",
    "\n",
    "### **Create Array**"
   ]
  },
  {
   "cell_type": "markdown",
   "id": "67467ba0-5ef4-4a20-a879-d4c187e9123f",
   "metadata": {},
   "source": [
    "#### **Method 1: Using arange**"
   ]
  },
  {
   "cell_type": "code",
   "execution_count": 11,
   "id": "40cbbbc5-ba98-4a77-9774-f9c0e6dd8f59",
   "metadata": {},
   "outputs": [
    {
     "data": {
      "text/plain": [
       "array([1, 2, 3, 4, 5, 6, 7, 8, 9])"
      ]
     },
     "execution_count": 11,
     "metadata": {},
     "output_type": "execute_result"
    }
   ],
   "source": [
    "array1 = np.arange(1,10)\n",
    "array1"
   ]
  },
  {
   "cell_type": "code",
   "execution_count": 12,
   "id": "89f38272-0e09-4763-b19a-7e6f0c23b917",
   "metadata": {},
   "outputs": [
    {
     "data": {
      "text/plain": [
       "array([1, 3, 5, 7, 9])"
      ]
     },
     "execution_count": 12,
     "metadata": {},
     "output_type": "execute_result"
    }
   ],
   "source": [
    "array1 = np.arange(1,10,2)\n",
    "array1"
   ]
  },
  {
   "cell_type": "markdown",
   "id": "81a2a3ae-09dd-44e7-813e-03dce7704b1f",
   "metadata": {},
   "source": [
    "#### **Method 2: Using linspace**"
   ]
  },
  {
   "cell_type": "code",
   "execution_count": 16,
   "id": "1ef095e2-d578-4214-bb57-0b075d6716ca",
   "metadata": {},
   "outputs": [
    {
     "data": {
      "text/plain": [
       "array([ 0.        ,  0.20408163,  0.40816327,  0.6122449 ,  0.81632653,\n",
       "        1.02040816,  1.2244898 ,  1.42857143,  1.63265306,  1.83673469,\n",
       "        2.04081633,  2.24489796,  2.44897959,  2.65306122,  2.85714286,\n",
       "        3.06122449,  3.26530612,  3.46938776,  3.67346939,  3.87755102,\n",
       "        4.08163265,  4.28571429,  4.48979592,  4.69387755,  4.89795918,\n",
       "        5.10204082,  5.30612245,  5.51020408,  5.71428571,  5.91836735,\n",
       "        6.12244898,  6.32653061,  6.53061224,  6.73469388,  6.93877551,\n",
       "        7.14285714,  7.34693878,  7.55102041,  7.75510204,  7.95918367,\n",
       "        8.16326531,  8.36734694,  8.57142857,  8.7755102 ,  8.97959184,\n",
       "        9.18367347,  9.3877551 ,  9.59183673,  9.79591837, 10.        ])"
      ]
     },
     "execution_count": 16,
     "metadata": {},
     "output_type": "execute_result"
    }
   ],
   "source": [
    "array1 = np.linspace(0,10)\n",
    "array1"
   ]
  },
  {
   "cell_type": "code",
   "execution_count": 17,
   "id": "dd0a3fd1-136d-41ea-a41b-d3fbecaa2164",
   "metadata": {},
   "outputs": [
    {
     "data": {
      "text/plain": [
       "array([ 0.        ,  3.33333333,  6.66666667, 10.        ])"
      ]
     },
     "execution_count": 17,
     "metadata": {},
     "output_type": "execute_result"
    }
   ],
   "source": [
    "array1 = np.linspace(0,10,4)\n",
    "array1"
   ]
  },
  {
   "cell_type": "markdown",
   "id": "3bcb9d73-0859-4de6-b5f6-97ee26f8ad7c",
   "metadata": {},
   "source": [
    "#### **Method 3: Array With all elements are Zero**"
   ]
  },
  {
   "cell_type": "code",
   "execution_count": 19,
   "id": "fbe316b8-7e51-4ffe-8ec2-0177ab721b85",
   "metadata": {},
   "outputs": [
    {
     "data": {
      "text/plain": [
       "array([0., 0., 0., 0., 0.])"
      ]
     },
     "execution_count": 19,
     "metadata": {},
     "output_type": "execute_result"
    }
   ],
   "source": [
    "array1 = np.zeros(5)\n",
    "array1"
   ]
  },
  {
   "cell_type": "code",
   "execution_count": 20,
   "id": "50b29d26-b91b-42e3-af12-fa395eb72028",
   "metadata": {},
   "outputs": [
    {
     "data": {
      "text/plain": [
       "array([[0., 0., 0., 0.],\n",
       "       [0., 0., 0., 0.]])"
      ]
     },
     "execution_count": 20,
     "metadata": {},
     "output_type": "execute_result"
    }
   ],
   "source": [
    "array2 = np.zeros([2,4])\n",
    "array2"
   ]
  },
  {
   "cell_type": "code",
   "execution_count": 21,
   "id": "4ec3fcd9-e51a-4e1f-a3a2-9af378617960",
   "metadata": {},
   "outputs": [
    {
     "data": {
      "text/plain": [
       "array([[0, 0, 0, 0],\n",
       "       [0, 0, 0, 0]])"
      ]
     },
     "execution_count": 21,
     "metadata": {},
     "output_type": "execute_result"
    }
   ],
   "source": [
    "array2 = np.zeros([2,4],dtype=\"int\")\n",
    "array2"
   ]
  },
  {
   "cell_type": "markdown",
   "id": "669f2b21-a50f-4abb-9c8d-3eb618ce4985",
   "metadata": {},
   "source": [
    "#### **Method 4: Array With all elements are Ones**"
   ]
  },
  {
   "cell_type": "code",
   "execution_count": 22,
   "id": "3738b8d4-4fcd-499c-9655-bbec6931942f",
   "metadata": {},
   "outputs": [
    {
     "data": {
      "text/plain": [
       "array([1., 1., 1., 1., 1.])"
      ]
     },
     "execution_count": 22,
     "metadata": {},
     "output_type": "execute_result"
    }
   ],
   "source": [
    "array1 = np.ones(5)\n",
    "array1"
   ]
  },
  {
   "cell_type": "code",
   "execution_count": 24,
   "id": "73b8cd57-026a-4300-932f-3f7b14ae894b",
   "metadata": {},
   "outputs": [
    {
     "data": {
      "text/plain": [
       "array([[1, 1, 1, 1, 1, 1],\n",
       "       [1, 1, 1, 1, 1, 1],\n",
       "       [1, 1, 1, 1, 1, 1],\n",
       "       [1, 1, 1, 1, 1, 1],\n",
       "       [1, 1, 1, 1, 1, 1],\n",
       "       [1, 1, 1, 1, 1, 1],\n",
       "       [1, 1, 1, 1, 1, 1]])"
      ]
     },
     "execution_count": 24,
     "metadata": {},
     "output_type": "execute_result"
    }
   ],
   "source": [
    "array1 = np.ones([7,6],dtype=\"int\")\n",
    "array1"
   ]
  },
  {
   "cell_type": "markdown",
   "id": "0af4adb0-7c77-4451-b45b-cc7078f375a4",
   "metadata": {},
   "source": [
    "#### **Method 5: Array Full of Any Value**"
   ]
  },
  {
   "cell_type": "code",
   "execution_count": 26,
   "id": "e5f8c893-8ceb-4df5-b93f-0f2781239c5f",
   "metadata": {},
   "outputs": [
    {
     "data": {
      "text/plain": [
       "array([8, 8, 8, 8, 8])"
      ]
     },
     "execution_count": 26,
     "metadata": {},
     "output_type": "execute_result"
    }
   ],
   "source": [
    "array1 = np.full(5,8)\n",
    "array1"
   ]
  },
  {
   "cell_type": "code",
   "execution_count": 27,
   "id": "98163e43-2af5-4b89-8f7a-736c81cd679c",
   "metadata": {},
   "outputs": [
    {
     "data": {
      "text/plain": [
       "array([[8, 8, 8, 8, 8, 8],\n",
       "       [8, 8, 8, 8, 8, 8]])"
      ]
     },
     "execution_count": 27,
     "metadata": {},
     "output_type": "execute_result"
    }
   ],
   "source": [
    "array1 = np.full([2,6],8)\n",
    "array1"
   ]
  },
  {
   "cell_type": "code",
   "execution_count": 28,
   "id": "9c8c4c74-3cf2-4a62-86bf-3e7b04fb329e",
   "metadata": {},
   "outputs": [
    {
     "data": {
      "text/plain": [
       "array([[6.7, 6.7, 6.7, 6.7, 6.7, 6.7],\n",
       "       [6.7, 6.7, 6.7, 6.7, 6.7, 6.7]])"
      ]
     },
     "execution_count": 28,
     "metadata": {},
     "output_type": "execute_result"
    }
   ],
   "source": [
    "array1 = np.full([2,6],6.7)\n",
    "array1"
   ]
  },
  {
   "cell_type": "markdown",
   "id": "11279dcb-2082-421b-9f29-cfbcdccfe311",
   "metadata": {},
   "source": [
    "#### **Method 6: Random Floats 0 to 1**"
   ]
  },
  {
   "cell_type": "code",
   "execution_count": 36,
   "id": "95bf7dc5-d6b2-419e-a360-273dbac41f37",
   "metadata": {},
   "outputs": [
    {
     "data": {
      "text/plain": [
       "array([0.31257336, 0.62588048, 0.1113093 , 0.49147779, 0.94089409,\n",
       "       0.05200627, 0.72680887, 0.97585428, 0.42178215, 0.58754642])"
      ]
     },
     "execution_count": 36,
     "metadata": {},
     "output_type": "execute_result"
    }
   ],
   "source": [
    "array1 = np.random.rand(10)\n",
    "array1"
   ]
  },
  {
   "cell_type": "code",
   "execution_count": 35,
   "id": "6ed87b15-d73e-48af-b5ba-445e3fef8473",
   "metadata": {},
   "outputs": [
    {
     "data": {
      "text/plain": [
       "array([[0.29258267, 0.79830164],\n",
       "       [0.9752543 , 0.37986269]])"
      ]
     },
     "execution_count": 35,
     "metadata": {},
     "output_type": "execute_result"
    }
   ],
   "source": [
    "array1 = np.random.rand(2,2)\n",
    "array1"
   ]
  },
  {
   "cell_type": "markdown",
   "id": "9b4e6fd1-052d-49ba-af24-202dcdd7ac23",
   "metadata": {},
   "source": [
    "#### **Method 7: Random Integers**"
   ]
  },
  {
   "cell_type": "code",
   "execution_count": 43,
   "id": "c15cb2bf-9e46-473e-ab7f-879abec0a1ca",
   "metadata": {},
   "outputs": [
    {
     "data": {
      "text/plain": [
       "17"
      ]
     },
     "execution_count": 43,
     "metadata": {},
     "output_type": "execute_result"
    }
   ],
   "source": [
    "array1 = np.random.randint(1,100)\n",
    "array1"
   ]
  },
  {
   "cell_type": "code",
   "execution_count": 44,
   "id": "3957e46f-aa49-4f4d-ab22-e0f07c55a2cc",
   "metadata": {},
   "outputs": [
    {
     "data": {
      "text/plain": [
       "array([[49, 70],\n",
       "       [73, 52]])"
      ]
     },
     "execution_count": 44,
     "metadata": {},
     "output_type": "execute_result"
    }
   ],
   "source": [
    "array1 = np.random.randint(1,100,size=(2,2))\n",
    "array1"
   ]
  },
  {
   "cell_type": "markdown",
   "id": "909fc8a3-c154-4795-90e3-4c65158260de",
   "metadata": {},
   "source": [
    "----------\n",
    "\n",
    "### **Numpy Data Types and Type Casting**"
   ]
  },
  {
   "cell_type": "code",
   "execution_count": 45,
   "id": "321ebf68-9f42-4bdd-a9cc-d6b994107ea5",
   "metadata": {},
   "outputs": [
    {
     "data": {
      "text/plain": [
       "array([1, 2, 3, 4])"
      ]
     },
     "execution_count": 45,
     "metadata": {},
     "output_type": "execute_result"
    }
   ],
   "source": [
    "array1 = np.array([1,2,3,4])\n",
    "array1"
   ]
  },
  {
   "cell_type": "code",
   "execution_count": 46,
   "id": "85513fa4-c8b9-45c5-be54-d5039a77c3b1",
   "metadata": {},
   "outputs": [
    {
     "data": {
      "text/plain": [
       "array([1. , 2. , 3.2, 4. ])"
      ]
     },
     "execution_count": 46,
     "metadata": {},
     "output_type": "execute_result"
    }
   ],
   "source": [
    "array1 = np.array([1,2,3.2,4])\n",
    "array1"
   ]
  },
  {
   "cell_type": "code",
   "execution_count": 49,
   "id": "41f7d9b9-3769-48fc-935f-767357f19555",
   "metadata": {},
   "outputs": [
    {
     "name": "stdout",
     "output_type": "stream",
     "text": [
      "['string' '1' '2' '6.7']\n",
      "<U32\n"
     ]
    }
   ],
   "source": [
    "lst = [\"string\",1,2,6.7]\n",
    "array = np.array(lst)\n",
    "print(array)\n",
    "print(array.dtype)"
   ]
  },
  {
   "cell_type": "code",
   "execution_count": 52,
   "id": "c46d03f3-0de8-4a73-b287-9c00cd67cc25",
   "metadata": {},
   "outputs": [
    {
     "name": "stdout",
     "output_type": "stream",
     "text": [
      "[1. 2. 4.]\n",
      "float64\n"
     ]
    }
   ],
   "source": [
    "array1 = np.array([1,2,4],dtype=\"float64\")\n",
    "print(array1)\n",
    "print(array1.dtype)"
   ]
  },
  {
   "cell_type": "code",
   "execution_count": 53,
   "id": "72d4ea17-1405-4e1b-9c6c-3d2010981ae7",
   "metadata": {},
   "outputs": [
    {
     "name": "stdout",
     "output_type": "stream",
     "text": [
      "[1 2 4]\n",
      "int64\n"
     ]
    }
   ],
   "source": [
    "array1 = np.array([1.2,2.2,4],dtype=\"int64\")\n",
    "print(array1)\n",
    "print(array1.dtype)"
   ]
  },
  {
   "cell_type": "markdown",
   "id": "ae9f39f6-ebfd-4087-b08c-9bf01b381c19",
   "metadata": {},
   "source": [
    "-----------\n",
    "\n",
    "### **Type Casting: Using astype()**"
   ]
  },
  {
   "cell_type": "code",
   "execution_count": 57,
   "id": "2a536d60-22d8-46f8-9f21-755eb460cd57",
   "metadata": {},
   "outputs": [
    {
     "name": "stdout",
     "output_type": "stream",
     "text": [
      "[1 2 4]\n",
      "[1. 2. 4.]\n"
     ]
    }
   ],
   "source": [
    "array1 = np.array([1,2,4])\n",
    "print(array1)\n",
    "new_array = array1.astype('float64')\n",
    "print(new_array)"
   ]
  },
  {
   "cell_type": "markdown",
   "id": "36d5b81f-22e6-4003-bfee-f30961f90652",
   "metadata": {},
   "source": [
    "-----------\n",
    "\n",
    "### **Array Reshaping --> Reshape, Ravel, Flatten**"
   ]
  },
  {
   "cell_type": "markdown",
   "id": "65972544-669f-496f-a04f-cf1a99615ecd",
   "metadata": {},
   "source": [
    "#### **Reshape**"
   ]
  },
  {
   "cell_type": "code",
   "execution_count": 61,
   "id": "9fb75090-5373-4090-9fe5-4706384f75d0",
   "metadata": {},
   "outputs": [
    {
     "name": "stdout",
     "output_type": "stream",
     "text": [
      "[[1 2 3]\n",
      " [4 5 6]]\n"
     ]
    }
   ],
   "source": [
    "array1 = np.array([1,2,3,4,5,6])\n",
    "reshaped1 = array1.reshape(2,3)\n",
    "print(reshaped1)"
   ]
  },
  {
   "cell_type": "code",
   "execution_count": 59,
   "id": "01027126-d747-4f0d-b67f-269f75676f00",
   "metadata": {},
   "outputs": [
    {
     "name": "stdout",
     "output_type": "stream",
     "text": [
      "[[1 2]\n",
      " [3 4]]\n"
     ]
    }
   ],
   "source": [
    "array1 = np.array([1,2,3,4])\n",
    "reshaped = array1.reshape(2,2)\n",
    "print(reshaped)"
   ]
  },
  {
   "cell_type": "markdown",
   "id": "89395170-2bc1-4196-b7ed-323ad2436abd",
   "metadata": {},
   "source": [
    "#### **Ravel**"
   ]
  },
  {
   "cell_type": "markdown",
   "id": "b3da316f-85dd-4a20-b68c-c6f86e9d7254",
   "metadata": {},
   "source": [
    "- Convert to 1D Array"
   ]
  },
  {
   "cell_type": "code",
   "execution_count": 63,
   "id": "a9368c7c-824a-4781-bc43-6eec6f4e55a2",
   "metadata": {},
   "outputs": [
    {
     "data": {
      "text/plain": [
       "array([1, 2, 3, 4, 5, 6])"
      ]
     },
     "execution_count": 63,
     "metadata": {},
     "output_type": "execute_result"
    }
   ],
   "source": [
    "ravel1 = reshaped1.ravel()\n",
    "ravel1"
   ]
  },
  {
   "cell_type": "markdown",
   "id": "031b7dde-36c8-4328-b2bb-9f3313920585",
   "metadata": {},
   "source": [
    "#### **Flatten**"
   ]
  },
  {
   "cell_type": "code",
   "execution_count": 65,
   "id": "b059f2e4-48a6-4557-a99d-4a3fb4230c3a",
   "metadata": {},
   "outputs": [
    {
     "data": {
      "text/plain": [
       "array([1, 2, 3, 4, 5, 6])"
      ]
     },
     "execution_count": 65,
     "metadata": {},
     "output_type": "execute_result"
    }
   ],
   "source": [
    "flat = reshaped1.flatten()\n",
    "flat"
   ]
  },
  {
   "cell_type": "markdown",
   "id": "e8098902-d0b2-45d3-932d-587245e382f8",
   "metadata": {},
   "source": [
    "---------\n",
    "\n",
    "### **Arithmetic Operations on Arrays**"
   ]
  },
  {
   "cell_type": "code",
   "execution_count": 66,
   "id": "7eff0d5c-b696-420c-ad07-84a0fb407d04",
   "metadata": {},
   "outputs": [],
   "source": [
    "array1 = np.array([1,2,3])\n",
    "array2 = np.array([4,5,6])"
   ]
  },
  {
   "cell_type": "code",
   "execution_count": 68,
   "id": "e12a8fe1-a922-4278-8788-f1f7142ae619",
   "metadata": {},
   "outputs": [
    {
     "name": "stdout",
     "output_type": "stream",
     "text": [
      "[5 7 9]\n"
     ]
    }
   ],
   "source": [
    "# Addition\n",
    "print(array1+array2)"
   ]
  },
  {
   "cell_type": "code",
   "execution_count": 69,
   "id": "0127fd55-318e-4927-8408-e210334cd984",
   "metadata": {},
   "outputs": [
    {
     "name": "stdout",
     "output_type": "stream",
     "text": [
      "[-3 -3 -3]\n"
     ]
    }
   ],
   "source": [
    "# Subtraction\n",
    "print(array1-array2)"
   ]
  },
  {
   "cell_type": "code",
   "execution_count": 70,
   "id": "ac319540-55b1-4497-8eef-c83cef8fd582",
   "metadata": {},
   "outputs": [
    {
     "name": "stdout",
     "output_type": "stream",
     "text": [
      "[ 4 10 18]\n"
     ]
    }
   ],
   "source": [
    "# Multiplication\n",
    "print(array1*array2)"
   ]
  },
  {
   "cell_type": "code",
   "execution_count": 71,
   "id": "4dedaa79-4df4-44a7-a282-91945464f075",
   "metadata": {},
   "outputs": [
    {
     "name": "stdout",
     "output_type": "stream",
     "text": [
      "[0.25 0.4  0.5 ]\n"
     ]
    }
   ],
   "source": [
    "# Division\n",
    "print(array1/array2)"
   ]
  },
  {
   "cell_type": "code",
   "execution_count": 73,
   "id": "c5ced241-050d-43d2-9d2b-25da5df75e74",
   "metadata": {},
   "outputs": [
    {
     "name": "stdout",
     "output_type": "stream",
     "text": [
      "[0 0 0]\n"
     ]
    }
   ],
   "source": [
    "# Integer Division\n",
    "print(array1//array2)"
   ]
  },
  {
   "cell_type": "code",
   "execution_count": 75,
   "id": "c4445387-4631-4006-8a87-1d2273d3b1c7",
   "metadata": {},
   "outputs": [
    {
     "name": "stdout",
     "output_type": "stream",
     "text": [
      "[0 1 0]\n"
     ]
    }
   ],
   "source": [
    "# Modulus\n",
    "print(array2%array1)"
   ]
  },
  {
   "cell_type": "code",
   "execution_count": 76,
   "id": "f64cdc9a-6729-4e35-8be5-e62891f8e9a0",
   "metadata": {},
   "outputs": [
    {
     "name": "stdout",
     "output_type": "stream",
     "text": [
      "[1 4 9]\n"
     ]
    }
   ],
   "source": [
    "# Exponent --> Power\n",
    "print(array1**2)"
   ]
  },
  {
   "cell_type": "markdown",
   "id": "4702aacb-fe91-4bc1-9e30-5f0d1b690994",
   "metadata": {},
   "source": [
    "### **Universal Functions**"
   ]
  },
  {
   "cell_type": "code",
   "execution_count": 77,
   "id": "189468a8-bbbd-49ce-84f5-9abd2b1c6f8d",
   "metadata": {},
   "outputs": [
    {
     "name": "stdout",
     "output_type": "stream",
     "text": [
      "[1.         1.41421356 1.73205081]\n"
     ]
    }
   ],
   "source": [
    "print(np.sqrt(array1))"
   ]
  },
  {
   "cell_type": "code",
   "execution_count": 79,
   "id": "8ab4b132-d34f-4411-adf2-9105e91ca0a4",
   "metadata": {},
   "outputs": [
    {
     "name": "stdout",
     "output_type": "stream",
     "text": [
      "[2.71828183 7.3890561 ]\n"
     ]
    }
   ],
   "source": [
    "print(np.exp([1,2]))"
   ]
  },
  {
   "cell_type": "markdown",
   "id": "0484f5df-fbf8-4834-b506-5ca9fbf0ff5c",
   "metadata": {},
   "source": [
    "-----------------\n",
    "\n",
    "### **Indexing and Slicing**"
   ]
  },
  {
   "cell_type": "code",
   "execution_count": 80,
   "id": "a03f0ac4-9809-4e7d-8a25-7e88e594c282",
   "metadata": {},
   "outputs": [],
   "source": [
    "array1 = np.array([1,2,4,5,6,7,8,9,10])"
   ]
  },
  {
   "cell_type": "code",
   "execution_count": 81,
   "id": "b3712fb2-621d-4de2-bb83-e8ec74e35895",
   "metadata": {},
   "outputs": [
    {
     "data": {
      "text/plain": [
       "1"
      ]
     },
     "execution_count": 81,
     "metadata": {},
     "output_type": "execute_result"
    }
   ],
   "source": [
    "array1[0]"
   ]
  },
  {
   "cell_type": "code",
   "execution_count": 82,
   "id": "3a9f57cd-330e-4f40-a6c7-fc33fa313442",
   "metadata": {},
   "outputs": [
    {
     "data": {
      "text/plain": [
       "10"
      ]
     },
     "execution_count": 82,
     "metadata": {},
     "output_type": "execute_result"
    }
   ],
   "source": [
    "array1[-1]"
   ]
  },
  {
   "cell_type": "code",
   "execution_count": 83,
   "id": "3578a4e3-d4d9-497d-9924-bad0fef5f2d8",
   "metadata": {},
   "outputs": [
    {
     "data": {
      "text/plain": [
       "array([1, 2, 4, 5])"
      ]
     },
     "execution_count": 83,
     "metadata": {},
     "output_type": "execute_result"
    }
   ],
   "source": [
    "array1[0:4]"
   ]
  },
  {
   "cell_type": "code",
   "execution_count": 84,
   "id": "d3f0bb48-5716-4302-8cd3-e246aac09daf",
   "metadata": {},
   "outputs": [
    {
     "data": {
      "text/plain": [
       "array([1, 4])"
      ]
     },
     "execution_count": 84,
     "metadata": {},
     "output_type": "execute_result"
    }
   ],
   "source": [
    "array1[0:4:2]"
   ]
  },
  {
   "cell_type": "code",
   "execution_count": 85,
   "id": "c208662a-7f4d-4214-b8e0-1990bd4ffdf6",
   "metadata": {},
   "outputs": [
    {
     "data": {
      "text/plain": [
       "array([10,  9,  8])"
      ]
     },
     "execution_count": 85,
     "metadata": {},
     "output_type": "execute_result"
    }
   ],
   "source": [
    "array1[-1:-4:-1]"
   ]
  },
  {
   "cell_type": "code",
   "execution_count": 87,
   "id": "799e33c4-4129-4d39-adae-16bfe863e281",
   "metadata": {},
   "outputs": [
    {
     "data": {
      "text/plain": [
       "array([10,  8,  6,  4,  1])"
      ]
     },
     "execution_count": 87,
     "metadata": {},
     "output_type": "execute_result"
    }
   ],
   "source": [
    "array1[-1::-2]"
   ]
  },
  {
   "cell_type": "code",
   "execution_count": 88,
   "id": "255a82b5-f798-41e8-8fe6-20bd628f6810",
   "metadata": {},
   "outputs": [
    {
     "name": "stdout",
     "output_type": "stream",
     "text": [
      "[[1 2 3]\n",
      " [4 5 6]]\n"
     ]
    }
   ],
   "source": [
    "matrix = np.array([[1,2,3],[4,5,6],[7,8,9]])\n",
    "print(matrix[0:2])"
   ]
  },
  {
   "cell_type": "code",
   "execution_count": 89,
   "id": "921e3932-66d8-4fee-8be6-bb535b1ccc17",
   "metadata": {},
   "outputs": [
    {
     "name": "stdout",
     "output_type": "stream",
     "text": [
      "[[1]\n",
      " [4]]\n"
     ]
    }
   ],
   "source": [
    "matrix = np.array([[1,2,3],[4,5,6],[7,8,9]])\n",
    "print(matrix[0:2,:1])"
   ]
  },
  {
   "cell_type": "markdown",
   "id": "0d837ff0-1f2c-46e4-85fd-c802e6d373fc",
   "metadata": {},
   "source": [
    "#### **Transpose**"
   ]
  },
  {
   "cell_type": "code",
   "execution_count": 90,
   "id": "3b7c6c29-bbfd-435f-a729-ceb3f67c4735",
   "metadata": {},
   "outputs": [
    {
     "name": "stdout",
     "output_type": "stream",
     "text": [
      "[[1 4 7]\n",
      " [2 5 8]\n",
      " [3 6 9]]\n"
     ]
    }
   ],
   "source": [
    "matrix = np.array([[1,2,3],[4,5,6],[7,8,9]])\n",
    "print(matrix.T)"
   ]
  },
  {
   "cell_type": "markdown",
   "id": "d1dec7c5-a5ca-4928-ba97-370b20c173c3",
   "metadata": {},
   "source": [
    "#### **Concatenation - vstack and hstack**"
   ]
  },
  {
   "cell_type": "code",
   "execution_count": 92,
   "id": "d7a3b565-a506-442d-97d5-d6b8aff02e7c",
   "metadata": {},
   "outputs": [
    {
     "data": {
      "text/plain": [
       "array([[1, 2],\n",
       "       [3, 4]])"
      ]
     },
     "execution_count": 92,
     "metadata": {},
     "output_type": "execute_result"
    }
   ],
   "source": [
    "array1 = np.array([1,2])\n",
    "array2 = np.array([3,4])\n",
    "new_array = np.vstack([array1,array2])\n",
    "new_array"
   ]
  },
  {
   "cell_type": "code",
   "execution_count": 95,
   "id": "a5840fe8-e467-4a54-bea6-f3d046f4e772",
   "metadata": {},
   "outputs": [
    {
     "data": {
      "text/plain": [
       "array([1, 2, 3, 4])"
      ]
     },
     "execution_count": 95,
     "metadata": {},
     "output_type": "execute_result"
    }
   ],
   "source": [
    "array1 = np.array([1,2])\n",
    "array2 = np.array([3,4])\n",
    "new_array = np.hstack([array1,array2])\n",
    "new_array"
   ]
  },
  {
   "cell_type": "markdown",
   "id": "8fca69e5-4896-4bea-91dd-80131a3f60cc",
   "metadata": {},
   "source": [
    "-----\n",
    "\n",
    "### **Splitting Of an Array**"
   ]
  },
  {
   "cell_type": "code",
   "execution_count": 4,
   "id": "f9689edc-70bc-4dfd-95d3-173d5ac8345e",
   "metadata": {},
   "outputs": [
    {
     "data": {
      "text/plain": [
       "array([[ 1,  2,  3,  4,  5,  6],\n",
       "       [ 7,  8,  9, 10, 11, 12],\n",
       "       [13, 14, 15, 16, 17, 18],\n",
       "       [19, 20, 21, 22, 23, 24],\n",
       "       [25, 26, 27, 28, 29, 30],\n",
       "       [31, 32, 33, 34, 35, 36]])"
      ]
     },
     "execution_count": 4,
     "metadata": {},
     "output_type": "execute_result"
    }
   ],
   "source": [
    "array1 = np.array([[1,2,3,4,5,6],\n",
    "                   [7,8,9,10,11,12],\n",
    "                   [13,14,15,16,17,18],\n",
    "                   [19,20,21,22,23,24],\n",
    "                   [25,26,27,28,29,30],\n",
    "                   [31,32,33,34,35,36]])\n",
    "array1"
   ]
  },
  {
   "cell_type": "code",
   "execution_count": 5,
   "id": "26300ac9-83e0-448e-b78d-486122e5cc2d",
   "metadata": {},
   "outputs": [
    {
     "name": "stdout",
     "output_type": "stream",
     "text": [
      "[array([[1, 2, 3, 4, 5, 6]]), array([[ 7,  8,  9, 10, 11, 12]]), array([[13, 14, 15, 16, 17, 18]]), array([[19, 20, 21, 22, 23, 24]]), array([[25, 26, 27, 28, 29, 30]]), array([[31, 32, 33, 34, 35, 36]])]\n"
     ]
    }
   ],
   "source": [
    "print(np.split(array1,6))"
   ]
  },
  {
   "cell_type": "code",
   "execution_count": 6,
   "id": "f455c422-d0ce-4804-bac8-ec926e86bc0b",
   "metadata": {},
   "outputs": [
    {
     "name": "stdout",
     "output_type": "stream",
     "text": [
      "[array([[ 1,  2,  3,  4,  5,  6],\n",
      "       [ 7,  8,  9, 10, 11, 12],\n",
      "       [13, 14, 15, 16, 17, 18]]), array([[19, 20, 21, 22, 23, 24],\n",
      "       [25, 26, 27, 28, 29, 30],\n",
      "       [31, 32, 33, 34, 35, 36]])]\n"
     ]
    }
   ],
   "source": [
    "print(np.split(array1,2))"
   ]
  },
  {
   "cell_type": "code",
   "execution_count": 7,
   "id": "223dd403-7f16-45ec-a53c-28f7d8872ead",
   "metadata": {},
   "outputs": [
    {
     "name": "stdout",
     "output_type": "stream",
     "text": [
      "[array([[ 1,  2,  3],\n",
      "       [ 7,  8,  9],\n",
      "       [13, 14, 15],\n",
      "       [19, 20, 21],\n",
      "       [25, 26, 27],\n",
      "       [31, 32, 33]]), array([[ 4,  5,  6],\n",
      "       [10, 11, 12],\n",
      "       [16, 17, 18],\n",
      "       [22, 23, 24],\n",
      "       [28, 29, 30],\n",
      "       [34, 35, 36]])]\n"
     ]
    }
   ],
   "source": [
    "print(np.hsplit(array1,2))"
   ]
  },
  {
   "cell_type": "code",
   "execution_count": 8,
   "id": "a62bcf71-ca14-4dc2-8b00-2c40b36c813c",
   "metadata": {},
   "outputs": [
    {
     "name": "stdout",
     "output_type": "stream",
     "text": [
      "[array([[ 1,  2,  3,  4,  5,  6],\n",
      "       [ 7,  8,  9, 10, 11, 12],\n",
      "       [13, 14, 15, 16, 17, 18]]), array([[19, 20, 21, 22, 23, 24],\n",
      "       [25, 26, 27, 28, 29, 30],\n",
      "       [31, 32, 33, 34, 35, 36]])]\n"
     ]
    }
   ],
   "source": [
    "print(np.vsplit(array1,2))"
   ]
  },
  {
   "cell_type": "markdown",
   "id": "ed87dac9-cf25-466b-84fc-3205f6ed653e",
   "metadata": {},
   "source": [
    "--------\n",
    "### **Repeating**\n",
    "- It Repeats Each Element "
   ]
  },
  {
   "cell_type": "code",
   "execution_count": 9,
   "id": "bd1722b1-cf29-44dc-8db2-ea3d5a81760a",
   "metadata": {},
   "outputs": [
    {
     "name": "stdout",
     "output_type": "stream",
     "text": [
      "[1 1 2 2 4 4]\n"
     ]
    }
   ],
   "source": [
    "array1 = np.array([1,2,4])\n",
    "print(np.repeat(array1,2))"
   ]
  },
  {
   "cell_type": "code",
   "execution_count": 10,
   "id": "e9cec06c-f215-47a4-a158-cd1d1f644a1e",
   "metadata": {},
   "outputs": [
    {
     "name": "stdout",
     "output_type": "stream",
     "text": [
      "[1 1 1 1 2 2 2 2 4 4 4 4]\n"
     ]
    }
   ],
   "source": [
    "print(np.repeat(array1,4))"
   ]
  },
  {
   "cell_type": "markdown",
   "id": "bdee3bbb-7a49-4555-a79b-81c61b65c543",
   "metadata": {},
   "source": [
    "### **tile**"
   ]
  },
  {
   "cell_type": "markdown",
   "id": "54cd1cdf-2a2c-4c4a-9c97-1b66895fe0a8",
   "metadata": {},
   "source": [
    "- It Repeats Whole Array"
   ]
  },
  {
   "cell_type": "code",
   "execution_count": 11,
   "id": "eea33fa2-9fbb-4310-bc7e-8f8c41220b28",
   "metadata": {},
   "outputs": [
    {
     "name": "stdout",
     "output_type": "stream",
     "text": [
      "[1 2 4 1 2 4]\n"
     ]
    }
   ],
   "source": [
    "print(np.tile(array1,2))"
   ]
  },
  {
   "cell_type": "code",
   "execution_count": 12,
   "id": "3276ba27-c1da-47ef-a2c6-b98d5e899df0",
   "metadata": {},
   "outputs": [
    {
     "name": "stdout",
     "output_type": "stream",
     "text": [
      "[1 1 1 1 2 2 2 2 4 4 4 4]\n"
     ]
    }
   ],
   "source": [
    "print(np.repeat(array1,4))"
   ]
  },
  {
   "cell_type": "markdown",
   "id": "2b47e50c-c4a7-4134-8606-a2bde97fadb7",
   "metadata": {},
   "source": [
    "-----\n",
    "\n",
    "### **Aggregate Functions**\n",
    "- It is Used to Summarize the array."
   ]
  },
  {
   "cell_type": "code",
   "execution_count": 13,
   "id": "4e02b6b2-4d8b-434b-a792-1707151be25b",
   "metadata": {},
   "outputs": [
    {
     "data": {
      "text/plain": [
       "array([[ 1,  2,  3,  4,  5,  6],\n",
       "       [ 7,  8,  9, 10, 11, 12],\n",
       "       [13, 14, 15, 16, 17, 18],\n",
       "       [19, 20, 21, 22, 23, 24],\n",
       "       [25, 26, 27, 28, 29, 30],\n",
       "       [31, 32, 33, 34, 35, 36]])"
      ]
     },
     "execution_count": 13,
     "metadata": {},
     "output_type": "execute_result"
    }
   ],
   "source": [
    "array1 = np.array([[1,2,3,4,5,6],\n",
    "                   [7,8,9,10,11,12],\n",
    "                   [13,14,15,16,17,18],\n",
    "                   [19,20,21,22,23,24],\n",
    "                   [25,26,27,28,29,30],\n",
    "                   [31,32,33,34,35,36]])\n",
    "array1"
   ]
  },
  {
   "cell_type": "code",
   "execution_count": 14,
   "id": "f33a7d44-a3e8-407b-8b1f-d50a54e5deca",
   "metadata": {},
   "outputs": [
    {
     "name": "stdout",
     "output_type": "stream",
     "text": [
      "666\n"
     ]
    }
   ],
   "source": [
    "print(np.sum(array1))"
   ]
  },
  {
   "cell_type": "code",
   "execution_count": 15,
   "id": "5f737555-a264-4f43-b4d4-97bbd825668a",
   "metadata": {},
   "outputs": [
    {
     "name": "stdout",
     "output_type": "stream",
     "text": [
      "18.5\n"
     ]
    }
   ],
   "source": [
    "# Average\n",
    "print(np.mean(array1))"
   ]
  },
  {
   "cell_type": "code",
   "execution_count": 16,
   "id": "d19a5f81-affb-475b-84cf-4c8a71354994",
   "metadata": {},
   "outputs": [
    {
     "name": "stdout",
     "output_type": "stream",
     "text": [
      "18.5\n"
     ]
    }
   ],
   "source": [
    "print(np.median(array1))"
   ]
  },
  {
   "cell_type": "code",
   "execution_count": 17,
   "id": "39eb9444-90d6-4d73-b6f6-e9d9e3e73c17",
   "metadata": {},
   "outputs": [
    {
     "name": "stdout",
     "output_type": "stream",
     "text": [
      "10.388294694831615\n"
     ]
    }
   ],
   "source": [
    "print(np.std(array1))"
   ]
  },
  {
   "cell_type": "code",
   "execution_count": 18,
   "id": "527f4898-1154-4831-8cb1-bdd2cf407bdf",
   "metadata": {},
   "outputs": [
    {
     "name": "stdout",
     "output_type": "stream",
     "text": [
      "107.91666666666667\n"
     ]
    }
   ],
   "source": [
    "print(np.var(array1))"
   ]
  },
  {
   "cell_type": "code",
   "execution_count": 19,
   "id": "30d25115-a215-4480-981a-cfd595b229f0",
   "metadata": {},
   "outputs": [
    {
     "name": "stdout",
     "output_type": "stream",
     "text": [
      "1\n"
     ]
    }
   ],
   "source": [
    "print(np.min(array1))"
   ]
  },
  {
   "cell_type": "code",
   "execution_count": 20,
   "id": "0331699b-a9de-4785-8eb6-050395b96ff3",
   "metadata": {},
   "outputs": [
    {
     "name": "stdout",
     "output_type": "stream",
     "text": [
      "36\n"
     ]
    }
   ],
   "source": [
    "print(np.max(array1))"
   ]
  },
  {
   "cell_type": "code",
   "execution_count": 22,
   "id": "0fda8640-6750-4ba3-9688-1efbeab46622",
   "metadata": {},
   "outputs": [
    {
     "name": "stdout",
     "output_type": "stream",
     "text": [
      "[ 96 102 108 114 120 126]\n"
     ]
    }
   ],
   "source": [
    "# Row Wise Sum\n",
    "print(np.sum(array1,axis=0))"
   ]
  },
  {
   "cell_type": "code",
   "execution_count": 23,
   "id": "770ab844-ce04-45a0-b920-b18344e6abca",
   "metadata": {},
   "outputs": [
    {
     "name": "stdout",
     "output_type": "stream",
     "text": [
      "[ 21  57  93 129 165 201]\n"
     ]
    }
   ],
   "source": [
    "# Column Wise Sum\n",
    "print(np.sum(array1,axis=1))"
   ]
  },
  {
   "cell_type": "markdown",
   "id": "8b3ea1cb-04ec-4bea-bd10-58fec2f4462f",
   "metadata": {},
   "source": [
    "----------\n",
    "### **Cumulative Operations**\n",
    "- These are used to calculate running total."
   ]
  },
  {
   "cell_type": "code",
   "execution_count": 24,
   "id": "91e8bf7c-da7c-4ac1-9a5f-bd171b501b1b",
   "metadata": {},
   "outputs": [
    {
     "data": {
      "text/plain": [
       "array([[ 1,  2,  3,  4,  5,  6],\n",
       "       [ 7,  8,  9, 10, 11, 12],\n",
       "       [13, 14, 15, 16, 17, 18],\n",
       "       [19, 20, 21, 22, 23, 24],\n",
       "       [25, 26, 27, 28, 29, 30],\n",
       "       [31, 32, 33, 34, 35, 36]])"
      ]
     },
     "execution_count": 24,
     "metadata": {},
     "output_type": "execute_result"
    }
   ],
   "source": [
    "array1"
   ]
  },
  {
   "cell_type": "code",
   "execution_count": 25,
   "id": "02441d2a-87ca-474d-9c7d-62cf83e6d726",
   "metadata": {},
   "outputs": [
    {
     "name": "stdout",
     "output_type": "stream",
     "text": [
      "[  1   3   6  10  15  21  28  36  45  55  66  78  91 105 120 136 153 171\n",
      " 190 210 231 253 276 300 325 351 378 406 435 465 496 528 561 595 630 666]\n"
     ]
    }
   ],
   "source": [
    "print(np.cumsum(array1))"
   ]
  },
  {
   "cell_type": "code",
   "execution_count": 26,
   "id": "270c99b3-2507-478d-9b21-52a3c29c2b03",
   "metadata": {},
   "outputs": [
    {
     "name": "stdout",
     "output_type": "stream",
     "text": [
      "[          1           2           6          24         120         720\n",
      "        5040       40320      362880     3628800    39916800   479001600\n",
      "  1932053504  1278945280  2004310016  2004189184  -288522240  -898433024\n",
      "   109641728 -2102132736 -1195114496  -522715136   862453760  -775946240\n",
      "  2076180480 -1853882368  1484783616 -1375731712 -1241513984  1409286144\n",
      "   738197504 -2147483648 -2147483648           0           0           0]\n"
     ]
    }
   ],
   "source": [
    "print(np.cumprod(array1))"
   ]
  },
  {
   "cell_type": "markdown",
   "id": "83cbaffd-bf55-41e3-a579-7e9116bcebc0",
   "metadata": {},
   "source": [
    "-----------\n",
    "### **Conditional Based Choices**"
   ]
  },
  {
   "cell_type": "code",
   "execution_count": 35,
   "id": "dadc861f-d540-431f-a77c-8b6588c78394",
   "metadata": {},
   "outputs": [],
   "source": [
    "array = np.array([[1,2],[10,20]])"
   ]
  },
  {
   "cell_type": "code",
   "execution_count": 36,
   "id": "c5340436-ba8f-4ed4-adc5-f96bf35d4599",
   "metadata": {},
   "outputs": [],
   "source": [
    "# Where"
   ]
  },
  {
   "cell_type": "code",
   "execution_count": 37,
   "id": "264b8274-6597-481c-b626-a9a266906e7f",
   "metadata": {},
   "outputs": [
    {
     "data": {
      "text/plain": [
       "array([['low', 'low', 'low', 'low', 'low', 'low'],\n",
       "       ['low', 'low', 'low', 'high', 'high', 'high'],\n",
       "       ['high', 'high', 'high', 'high', 'high', 'high'],\n",
       "       ['high', 'high', 'high', 'high', 'high', 'high'],\n",
       "       ['high', 'high', 'high', 'high', 'high', 'high'],\n",
       "       ['high', 'high', 'high', 'high', 'high', 'high']], dtype='<U4')"
      ]
     },
     "execution_count": 37,
     "metadata": {},
     "output_type": "execute_result"
    }
   ],
   "source": [
    "result = np.where(array1<10,\"low\",\"high\")\n",
    "result"
   ]
  },
  {
   "cell_type": "code",
   "execution_count": 38,
   "id": "0f5d4f57-e4fa-4795-8140-d4f912bbc64b",
   "metadata": {},
   "outputs": [
    {
     "data": {
      "text/plain": [
       "array([[False, False, False, False, False, False],\n",
       "       [False, False, False, False, False, False],\n",
       "       [False, False, False,  True,  True,  True],\n",
       "       [ True,  True,  True,  True,  True,  True],\n",
       "       [ True,  True,  True,  True,  True,  True],\n",
       "       [ True,  True,  True,  True, False, False]])"
      ]
     },
     "execution_count": 38,
     "metadata": {},
     "output_type": "execute_result"
    }
   ],
   "source": [
    "# For Value That are greater than 15 and less than 35\n",
    "result1 = np.logical_and(array1>15,array1<35)\n",
    "result1"
   ]
  },
  {
   "cell_type": "code",
   "execution_count": 40,
   "id": "9ee85fd5-3c77-4a23-b29e-5b24e70b769f",
   "metadata": {},
   "outputs": [
    {
     "name": "stdout",
     "output_type": "stream",
     "text": [
      "[[1 0]\n",
      " [1 1]]\n"
     ]
    }
   ],
   "source": [
    "print(np.argwhere(array>5))"
   ]
  },
  {
   "cell_type": "code",
   "execution_count": 42,
   "id": "177c04c1-4fef-4c0e-9fe7-76ee7b784b48",
   "metadata": {},
   "outputs": [
    {
     "data": {
      "text/plain": [
       "array([[False, False, False, False, False, False],\n",
       "       [False, False, False, False, False, False],\n",
       "       [False, False, False,  True,  True,  True],\n",
       "       [ True,  True,  True,  True,  True,  True],\n",
       "       [ True,  True,  True,  True,  True,  True],\n",
       "       [ True,  True,  True,  True,  True,  True]])"
      ]
     },
     "execution_count": 42,
     "metadata": {},
     "output_type": "execute_result"
    }
   ],
   "source": [
    "# For Value That are greater than 15 or less than 35\n",
    "result1 = np.logical_or(array1>15,array1>20)\n",
    "result1"
   ]
  },
  {
   "cell_type": "markdown",
   "id": "d461d499-04c1-4ed1-a124-7a1867589c28",
   "metadata": {},
   "source": [
    "----------\n",
    "\n",
    "### **BroadCasting**\n",
    "- It means stretching the smaller array to match the shape of the bigger array\n",
    "- Numpy compares the shapes of the arrays from the end (right to left) and follow these rules:\n",
    "#### **Rules**\n",
    "**1.** If Shapes are equal they are compatible.</br>\n",
    "**2.** If one is 1, It can be stretched to match the other.</br>\n",
    "**3.** If shapes are different Not 1 or equal --> Error"
   ]
  },
  {
   "cell_type": "code",
   "execution_count": 44,
   "id": "2d333cae-f09e-4b42-ad5d-79f0275b5002",
   "metadata": {},
   "outputs": [],
   "source": [
    "array1 = np.array([[100,200],[400,600]])\n",
    "array2 = array1 + 50"
   ]
  },
  {
   "cell_type": "code",
   "execution_count": 47,
   "id": "68d7d07b-c479-4e43-aefd-a79367ed9eca",
   "metadata": {},
   "outputs": [
    {
     "name": "stdout",
     "output_type": "stream",
     "text": [
      "[[150 250]\n",
      " [450 650]]\n",
      "(2, 2)\n"
     ]
    }
   ],
   "source": [
    "print(array2)\n",
    "print(array2.shape)"
   ]
  },
  {
   "cell_type": "markdown",
   "id": "3764832f-4220-42ec-bd71-76cd471f1c01",
   "metadata": {},
   "source": [
    "-------------------"
   ]
  },
  {
   "cell_type": "markdown",
   "id": "4dffff9d-5aa0-4866-a5f3-efafd5b388e9",
   "metadata": {},
   "source": [
    "### **Vectorization**\n",
    "- Replacing Loops operations with single function\n",
    "- np.vectorize() --> Convert a regular function to be applied on an array.\n",
    "\n",
    "**It is Used**\n",
    "- When you apply a custom function to every element\n",
    "- For readability\n",
    "- It is not faster than loop\n",
    "- It only makes syntax cleaner, but doesnot improve speed like real vectorized numpy functions."
   ]
  },
  {
   "cell_type": "code",
   "execution_count": 48,
   "id": "edd2764c-ae03-4435-b72d-24318d12ad60",
   "metadata": {},
   "outputs": [],
   "source": [
    "def square(x):\n",
    "    return x*x\n",
    "vfunc = np.vectorize(square)"
   ]
  },
  {
   "cell_type": "code",
   "execution_count": 50,
   "id": "e702a8ee-e917-4740-9dbb-7adefd6722cd",
   "metadata": {},
   "outputs": [
    {
     "data": {
      "text/plain": [
       "array([[ 10000,  40000],\n",
       "       [160000, 360000]])"
      ]
     },
     "execution_count": 50,
     "metadata": {},
     "output_type": "execute_result"
    }
   ],
   "source": [
    "vfunc(array1)"
   ]
  },
  {
   "cell_type": "markdown",
   "id": "49361be2-e4ff-4275-b05a-e06acec5f4df",
   "metadata": {},
   "source": [
    "-----------\n",
    "### **Handling Missing Values**\n"
   ]
  },
  {
   "cell_type": "code",
   "execution_count": 51,
   "id": "e8a41319-ba4c-437b-a8f2-24a1a1fe218c",
   "metadata": {},
   "outputs": [
    {
     "data": {
      "text/plain": [
       "array([ 1.,  2., nan,  4.])"
      ]
     },
     "execution_count": 51,
     "metadata": {},
     "output_type": "execute_result"
    }
   ],
   "source": [
    "array1 = np.array([1,2,np.nan,4])\n",
    "array1"
   ]
  },
  {
   "cell_type": "code",
   "execution_count": 52,
   "id": "9365dc01-f737-45ae-8aba-414d06ffa6ec",
   "metadata": {},
   "outputs": [],
   "source": [
    "# np.inf and -np.inf --> Represents Positive and Negative Infinites"
   ]
  },
  {
   "cell_type": "code",
   "execution_count": 53,
   "id": "f8e336d0-b827-4d20-99a2-b01ae7bce4eb",
   "metadata": {},
   "outputs": [
    {
     "data": {
      "text/plain": [
       "array([ 1.,  2., inf,  4.])"
      ]
     },
     "execution_count": 53,
     "metadata": {},
     "output_type": "execute_result"
    }
   ],
   "source": [
    "array1 = np.array([1,2,np.inf,4])\n",
    "array1"
   ]
  },
  {
   "cell_type": "code",
   "execution_count": 54,
   "id": "eb02b8d2-7853-47ca-9c55-d948c19d89cc",
   "metadata": {},
   "outputs": [],
   "source": [
    "# np.isnan\n",
    "# np.isinf\n",
    "# np.isinfinite\n",
    "\n",
    "# These are Functions Used to detect any null values, finite or infinite values"
   ]
  },
  {
   "cell_type": "code",
   "execution_count": 55,
   "id": "ac841c82-f1a8-4011-bac3-09c80613abdd",
   "metadata": {},
   "outputs": [
    {
     "data": {
      "text/plain": [
       "array([False, False,  True, False])"
      ]
     },
     "execution_count": 55,
     "metadata": {},
     "output_type": "execute_result"
    }
   ],
   "source": [
    "array1 = np.array([1,2,np.nan,4])\n",
    "np.isnan(array1)"
   ]
  },
  {
   "cell_type": "code",
   "execution_count": 60,
   "id": "fb371754-33ea-442a-9912-6835168796a4",
   "metadata": {},
   "outputs": [
    {
     "data": {
      "text/plain": [
       "array([False, False,  True, False])"
      ]
     },
     "execution_count": 60,
     "metadata": {},
     "output_type": "execute_result"
    }
   ],
   "source": [
    "array2 = np.array([1,2,np.inf,4])\n",
    "np.isinf(array2)"
   ]
  },
  {
   "cell_type": "code",
   "execution_count": 61,
   "id": "da9b31dd-1e65-4d40-8eb9-7dfb5c5066fc",
   "metadata": {},
   "outputs": [
    {
     "data": {
      "text/plain": [
       "array([ 1.00000000e+000,  2.00000000e+000, -1.79769313e+308,\n",
       "        4.00000000e+000])"
      ]
     },
     "execution_count": 61,
     "metadata": {},
     "output_type": "execute_result"
    }
   ],
   "source": [
    "array4 = np.nan_to_num(array1)\n",
    "array4"
   ]
  },
  {
   "cell_type": "code",
   "execution_count": 58,
   "id": "e8fddf81-0971-4538-a02e-6d0199172a27",
   "metadata": {},
   "outputs": [
    {
     "ename": "AttributeError",
     "evalue": "module 'numpy' has no attribute 'isinfinite'",
     "output_type": "error",
     "traceback": [
      "\u001b[1;31m---------------------------------------------------------------------------\u001b[0m",
      "\u001b[1;31mAttributeError\u001b[0m                            Traceback (most recent call last)",
      "Cell \u001b[1;32mIn[58], line 2\u001b[0m\n\u001b[0;32m      1\u001b[0m array1 \u001b[38;5;241m=\u001b[39m np\u001b[38;5;241m.\u001b[39marray([\u001b[38;5;241m1\u001b[39m,\u001b[38;5;241m2\u001b[39m,\u001b[38;5;241m-\u001b[39mnp\u001b[38;5;241m.\u001b[39minf,\u001b[38;5;241m4\u001b[39m])\n\u001b[1;32m----> 2\u001b[0m np\u001b[38;5;241m.\u001b[39misinfinite(array1)\n",
      "File \u001b[1;32m~\\anaconda6\\Lib\\site-packages\\numpy\\__init__.py:333\u001b[0m, in \u001b[0;36m__getattr__\u001b[1;34m(attr)\u001b[0m\n\u001b[0;32m    330\u001b[0m     \u001b[38;5;124m\"\u001b[39m\u001b[38;5;124mRemoved in NumPy 1.25.0\u001b[39m\u001b[38;5;124m\"\u001b[39m\n\u001b[0;32m    331\u001b[0m     \u001b[38;5;28;01mraise\u001b[39;00m \u001b[38;5;167;01mRuntimeError\u001b[39;00m(\u001b[38;5;124m\"\u001b[39m\u001b[38;5;124mTester was removed in NumPy 1.25.\u001b[39m\u001b[38;5;124m\"\u001b[39m)\n\u001b[1;32m--> 333\u001b[0m \u001b[38;5;28;01mraise\u001b[39;00m \u001b[38;5;167;01mAttributeError\u001b[39;00m(\u001b[38;5;124m\"\u001b[39m\u001b[38;5;124mmodule \u001b[39m\u001b[38;5;132;01m{!r}\u001b[39;00m\u001b[38;5;124m has no attribute \u001b[39m\u001b[38;5;124m\"\u001b[39m\n\u001b[0;32m    334\u001b[0m                      \u001b[38;5;124m\"\u001b[39m\u001b[38;5;132;01m{!r}\u001b[39;00m\u001b[38;5;124m\"\u001b[39m\u001b[38;5;241m.\u001b[39mformat(\u001b[38;5;18m__name__\u001b[39m, attr))\n",
      "\u001b[1;31mAttributeError\u001b[0m: module 'numpy' has no attribute 'isinfinite'"
     ]
    }
   ],
   "source": []
  },
  {
   "cell_type": "code",
   "execution_count": 59,
   "id": "fcad6bac-15fa-4bed-91bd-b46fff0b7735",
   "metadata": {},
   "outputs": [],
   "source": []
  },
  {
   "cell_type": "code",
   "execution_count": null,
   "id": "60b91c7f-076e-44fa-b10b-ac013c7f0b2b",
   "metadata": {},
   "outputs": [],
   "source": []
  }
 ],
 "metadata": {
  "kernelspec": {
   "display_name": "Python 3 (ipykernel)",
   "language": "python",
   "name": "python3"
  },
  "language_info": {
   "codemirror_mode": {
    "name": "ipython",
    "version": 3
   },
   "file_extension": ".py",
   "mimetype": "text/x-python",
   "name": "python",
   "nbconvert_exporter": "python",
   "pygments_lexer": "ipython3",
   "version": "3.11.7"
  },
  "widgets": {
   "application/vnd.jupyter.widget-state+json": {
    "state": {},
    "version_major": 2,
    "version_minor": 0
   }
  }
 },
 "nbformat": 4,
 "nbformat_minor": 5
}
