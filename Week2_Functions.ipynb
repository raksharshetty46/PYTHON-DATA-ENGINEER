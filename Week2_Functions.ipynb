{
 "cells": [
  {
   "cell_type": "markdown",
   "id": "55ef8d54-d562-4d10-b146-dd2eb7c17c84",
   "metadata": {},
   "source": [
    "## **Python Functions: Defining, Calling, and Arguments**\n",
    "\n",
    "- Functions are blocks of organized, reusable code that perform a single, related action. \n",
    "- They help break our program into smaller, manageable, and modular chunks.\n",
    "- **Parameters:** Parameters are the variables listed inside the parentheses in the function definition.\n",
    "- **Arguments:** Arguments are the actual values you pass into a function when calling it.\n",
    "---\n",
    "\n",
    "#### **Defining a Function**\n",
    "\n",
    "- You define a function using the `def` keyword, followed by the function name, parentheses `()`, and a colon `:`.\n",
    "- The code block forming the function's body is indented.\n",
    "\n",
    "#### **Syntax:**\n",
    "```python\n",
    "def function_name(parameters):\n",
    "    \"\"\"Docstring: Optional documentation for the function.\"\"\"\n",
    "    # Function body\n",
    "    # ...\n",
    "    return value  # Optional\n",
    "````"
   ]
  },
  {
   "cell_type": "markdown",
   "id": "560f91a0-e2d9-4468-81c1-50dd6e749b8b",
   "metadata": {},
   "source": [
    "    - function_name: A unique identifier for the function.\n",
    "    - parameters: Optional inputs.\n",
    "    - Docstring: Used to describe what the function does.\n",
    "    - return: Sends a result back to the caller.\n",
    "\n",
    "#### **Example:**"
   ]
  },
  {
   "cell_type": "markdown",
   "id": "249d3944-de0b-4c61-86b6-d64c75ec4046",
   "metadata": {},
   "source": [
    "````python\n",
    "def greet(name):\n",
    "    \"\"\"This function greets the person passed in as an argument.\"\"\"\n",
    "    print(f\"Hello, {name}!\")\n",
    "\n",
    "def add_numbers(a, b):\n",
    "    \"\"\"This function adds two numbers and returns their sum.\"\"\"\n",
    "    return a + b\n"
   ]
  },
  {
   "cell_type": "markdown",
   "id": "406a394e-c442-4f48-b1f5-92cf6b812a53",
   "metadata": {},
   "source": [
    "#### **Calling a Function**\n",
    "- You \"call\" a function using its name followed by parentheses ()."
   ]
  },
  {
   "cell_type": "markdown",
   "id": "7cf897bc-1880-45d7-a5cb-326c5d072202",
   "metadata": {},
   "source": [
    "#### **Example:**\n",
    "\n",
    "````python\n",
    "# Calling the greet function\n",
    "greet(\"Alice\")  # Output: Hello, Alice!\n",
    "\n",
    "# Calling add_numbers function\n",
    "result = add_numbers(10, 5)\n",
    "print(f\"The sum is: {result}\")  # Output: The sum is: 15\n"
   ]
  },
  {
   "cell_type": "markdown",
   "id": "7f6329a3-b1de-4c1a-9add-07d7015b899d",
   "metadata": {},
   "source": [
    "#### **Function Arguments**\n",
    "- Arguments are the values you pass into a function.\n",
    "\n",
    "#### **3.1. Positional Arguments**\n",
    "- The order matters.\n",
    "- Positional arguments are arguments passed to a function in the correct positional order as defined in the function’s parameter list.\n",
    "- Each argument is assigned to its corresponding parameter based on its position (i.e., first argument to the first parameter, second to the second, and so on).\n",
    "\n",
    "\n",
    "\n",
    "#### **Example:**\n",
    "\n",
    "````python\n",
    "def describe_pet(animal_type, pet_name):\r\n",
    "    print(f\"\\nI have a {animal_type}.\")\r\n",
    "    print(f\"My {animal_type}'s name is {pet_name}.\")\r\n",
    "\r\n",
    "describe_pet('hamster', 'Harry')\r\n",
    "describe_pet('dog', 'Willie')\r\n",
    "describe_pet('Harry', 'hamster')  # Incorrect output\r\n"
   ]
  },
  {
   "cell_type": "markdown",
   "id": "b0e68e05-6eab-4e23-a7e3-8e7e22b44f2b",
   "metadata": {},
   "source": [
    "#### **3.2. Keyword Arguments**\n",
    "- You specify the parameter name while calling.\n",
    "\n",
    "#### **Example:**\n",
    "````python\n",
    "describe_pet(animal_type='dog', pet_name='Willie')\n",
    "describe_pet(pet_name='Harry', animal_type='hamster')"
   ]
  },
  {
   "cell_type": "markdown",
   "id": "b303dd34-e235-4f59-ad1f-8f3a8d9a5966",
   "metadata": {},
   "source": [
    "#### **3.3. Default Arguments**\n",
    "You can assign default values to parameters.\n",
    "\n",
    "#### **Example:**\n",
    "\n",
    "````python\n",
    "def describe_pet(pet_name, animal_type='dog'):\r\n",
    "    print(f\"\\nI have a {animal_type}.\")\r\n",
    "    print(f\"My {animal_type}'s name is {pet_name}.\")\r\n",
    "\r\n",
    "describe_pet(pet_name='Willie')  # Uses default\r\n",
    "describe_pet(pet_name='Harry', animal_type='hamster')  # Overrides default\r\n"
   ]
  },
  {
   "cell_type": "markdown",
   "id": "3ee70889-cd6a-40ba-9f2b-8e8e1664a16a",
   "metadata": {},
   "source": [
    "- Default parameters must follow non-default parameters."
   ]
  },
  {
   "cell_type": "markdown",
   "id": "ca3ce8c7-bd3c-4cd6-99d1-f64ef5a632de",
   "metadata": {},
   "source": [
    "#### **Arbitrary Arguments:\\*args and \\*\\*kwargs**\n",
    "- Sometimes, you don't know how many arguments will be passed."
   ]
  },
  {
   "cell_type": "markdown",
   "id": "f49c3cbe-8e14-4804-8751-03ccb1f2d0d0",
   "metadata": {},
   "source": [
    "#### **4.1. \\*args (Arbitrary Positional Arguments)**\n",
    "Collects all extra positional arguments into a tuple.\n",
    "\n",
    "#### **Example:**\n",
    "````python\n",
    "def sum_all_numbers(*numbers):\r\n",
    "    total = 0\r\n",
    "    for number in numbers:\r\n",
    "        total += number\r\n",
    "    return total\r\n",
    "\r\n",
    "print(sum_all_numbers(1, 2))\r\n",
    "print(sum_all_numbers(1, 2, 3, 4, 5))\r\n",
    "print(sum_all_numbers())  # Empty tuple\r\n",
    "\r\n",
    "def print_greetings(greeting, *names):\r\n",
    "    for name in names:\r\n",
    "        print(f\"{greeting}, {name}!\")\r\n",
    "\r\n",
    "print_greetings(\"Hello\", \"Alice\", \"Bob\", \"Charlie\")\r\n",
    "\n"
   ]
  },
  {
   "cell_type": "markdown",
   "id": "1f0d2b4b-e273-45f4-8553-6a77cd6262af",
   "metadata": {},
   "source": [
    "#### **4.2. \\*\\*kwargs (Arbitrary Keyword Arguments)**\n",
    "- Collects extra keyword arguments into a dictionary.\n",
    "\n",
    "#### **Example**"
   ]
  },
  {
   "cell_type": "code",
   "execution_count": 1,
   "id": "c4e90fe2-6e31-4cbc-8685-19fa06b750ed",
   "metadata": {},
   "outputs": [
    {
     "name": "stdout",
     "output_type": "stream",
     "text": [
      "Name: John Doe\n",
      "Age: 30\n",
      "City: New York\n",
      "Product: Laptop\n",
      "Price: 1200.5\n",
      "Quantity: 1\n",
      "Brand: HP\n",
      "Current settings:\n",
      "  theme: light\n",
      "  language: fr\n",
      "  notifications: True\n",
      "Current settings:\n",
      "  theme: dark\n",
      "  language: en\n",
      "  notifications: False\n"
     ]
    }
   ],
   "source": [
    "def print_user_info(**user_data):\n",
    "    for key, value in user_data.items():\n",
    "        print(f\"{key.replace('_', ' ').title()}: {value}\")\n",
    "\n",
    "print_user_info(name=\"John Doe\", age=30, city=\"New York\")\n",
    "print_user_info(product=\"Laptop\", price=1200.50, quantity=1, brand=\"HP\")\n",
    "\n",
    "def configure_settings(**settings):\n",
    "    default_settings = {\n",
    "        'theme': 'dark',\n",
    "        'language': 'en',\n",
    "        'notifications': True\n",
    "    }\n",
    "    default_settings.update(settings)\n",
    "    print(\"Current settings:\")\n",
    "    for key, value in default_settings.items():\n",
    "        print(f\"  {key}: {value}\")\n",
    "\n",
    "configure_settings(theme='light', language='fr')\n",
    "configure_settings(notifications=False)"
   ]
  },
  {
   "cell_type": "markdown",
   "id": "e885a776-e16c-42ba-abf7-d52d785e74ef",
   "metadata": {},
   "source": [
    "#### **Combining All Argument Types**\n",
    "- You can combine:\n",
    "    - Positional arguments\n",
    "    - *args\n",
    "    - Default arguments\n",
    "    - **kwargs\n",
    "- Order: positional, *args, default=value, **kwargs"
   ]
  },
  {
   "cell_type": "markdown",
   "id": "ac39d00f-491e-4301-9ba6-f76e5c5276e5",
   "metadata": {},
   "source": [
    "#### **Example:**\n",
    "````python\n",
    "def complicated_function(required_arg, *args_example, default_arg='default', **kwargs_example):\n",
    "    print(f\"Required Arg: {required_arg}\")\n",
    "    print(f\"Args Example (tuple): {args_example}\")\n",
    "    print(f\"Default Arg: {default_arg}\")\n",
    "    print(f\"Kwargs Example (dict): {kwargs_example}\")\n",
    "    print(\"-\" * 20)\n",
    "\n",
    "# Call 1: All types\n",
    "complicated_function(10, 'extra1', 'extra2', default_arg='new_default', key1='val1', key2='val2')\n",
    "\n",
    "# Call 2: Minimal arguments\n",
    "complicated_function('hello')\n",
    "\n",
    "# Call 3: Only positional and default\n",
    "complicated_function(50, 'more_extra', default_arg='custom')\n",
    "\n",
    "# Call 4: Only positional and kwargs\n",
    "complicated_function(True, city='London', zip_code=12345)\n"
   ]
  },
  {
   "cell_type": "markdown",
   "id": "a9318484-9d01-4692-8239-98631e733e71",
   "metadata": {},
   "source": [
    "-----------\n",
    "\n",
    "#### **More Examples:**"
   ]
  },
  {
   "cell_type": "markdown",
   "id": "dd489969-a0b1-4ddc-82bf-97864a2042fa",
   "metadata": {},
   "source": [
    "#### **Positional Arguments**"
   ]
  },
  {
   "cell_type": "code",
   "execution_count": 8,
   "id": "4bc5f8bd-d311-4077-84ba-7dd79fd2f407",
   "metadata": {},
   "outputs": [
    {
     "name": "stdout",
     "output_type": "stream",
     "text": [
      "Hi, My Name is Abc, Age: 10, Department: Def\n"
     ]
    }
   ],
   "source": [
    "def Function1(name,age,department):\n",
    "    print(f\"Hi, My Name is {name}, Age: {age}, Department: {department}\")\n",
    "Function1(\"Abc\",10,\"Def\")"
   ]
  },
  {
   "cell_type": "markdown",
   "id": "544c313c-8042-433f-9792-c8b083ab1fd0",
   "metadata": {},
   "source": [
    "#### **Keyword Arguments**"
   ]
  },
  {
   "cell_type": "code",
   "execution_count": 7,
   "id": "e5163b46-a4fa-443f-a35d-2fd7f3cbbb78",
   "metadata": {},
   "outputs": [
    {
     "name": "stdout",
     "output_type": "stream",
     "text": [
      "Hi, My Name is Abc, Age: 10, Department: Def\n"
     ]
    }
   ],
   "source": [
    "def Function1(name,age,department):\n",
    "    print(f\"Hi, My Name is {name}, Age: {age}, Department: {department}\")\n",
    "Function1(age=10,name=\"Abc\",department=\"Def\")"
   ]
  },
  {
   "cell_type": "markdown",
   "id": "9b102b25-229d-45d5-b9be-57de28cd52d5",
   "metadata": {},
   "source": [
    "#### **Default Arguments**"
   ]
  },
  {
   "cell_type": "code",
   "execution_count": 10,
   "id": "f9da8d6c-f201-4aa2-bdb7-3cea8463e36d",
   "metadata": {},
   "outputs": [
    {
     "name": "stdout",
     "output_type": "stream",
     "text": [
      "Hi, My Name is Abc, Age: 10, Department: Ghi\n"
     ]
    }
   ],
   "source": [
    "def Function1(name,age,department=\"Def\"):\n",
    "    print(f\"Hi, My Name is {name}, Age: {age}, Department: {department}\")\n",
    "Function1(age=10,name=\"Abc\",department=\"Ghi\")"
   ]
  },
  {
   "cell_type": "code",
   "execution_count": 11,
   "id": "25aa3601-9fac-4e7e-8997-fcbf33ce5524",
   "metadata": {},
   "outputs": [
    {
     "name": "stdout",
     "output_type": "stream",
     "text": [
      "Hi, My Name is Abc, Age: 10, Department: Def\n"
     ]
    }
   ],
   "source": [
    "def Function1(name,age,department=\"Def\"):\n",
    "    print(f\"Hi, My Name is {name}, Age: {age}, Department: {department}\")\n",
    "Function1(age=10,name=\"Abc\")"
   ]
  },
  {
   "cell_type": "markdown",
   "id": "4e2cfd87-c52c-442c-b1ca-6bc252b3c60f",
   "metadata": {},
   "source": [
    "#### **Arbitary Arguments**"
   ]
  },
  {
   "cell_type": "markdown",
   "id": "53f06ac1-8bd5-45ec-b64a-e6ec3eab163f",
   "metadata": {},
   "source": [
    "#### **Arbitrary Positional Arguments**"
   ]
  },
  {
   "cell_type": "code",
   "execution_count": 17,
   "id": "6bec6105-ef1b-43be-bdaf-ea8e5ae99c7e",
   "metadata": {},
   "outputs": [
    {
     "name": "stdout",
     "output_type": "stream",
     "text": [
      "10\n",
      "20\n",
      "40\n"
     ]
    }
   ],
   "source": [
    "def Function1(*args):\n",
    "    sum = 0\n",
    "    for i in args:\n",
    "        sum = sum + i\n",
    "\n",
    "    return i\n",
    "print(Function1(10))\n",
    "print(Function1(10,20))\n",
    "print(Function1(10,20,40))\n"
   ]
  },
  {
   "cell_type": "markdown",
   "id": "c1ca8a55-04e8-45b1-8cd7-bf1f3134c474",
   "metadata": {},
   "source": [
    "#### **Write a function that accepts any number of numbers and returns their average.**\n"
   ]
  },
  {
   "cell_type": "code",
   "execution_count": 20,
   "id": "064e0548-77e6-4285-a06d-8dd2558ae010",
   "metadata": {},
   "outputs": [
    {
     "name": "stdout",
     "output_type": "stream",
     "text": [
      "10.0\n",
      "32.5\n",
      "40.0\n",
      "48.333333333333336\n"
     ]
    }
   ],
   "source": [
    "def Function2(*args):\n",
    "    sum = 0\n",
    "    count = 0\n",
    "    for i in args:\n",
    "        sum += i\n",
    "        count += 1\n",
    "    return sum/count\n",
    "\n",
    "print(Function2(10))\n",
    "print(Function2(10,20,40,60))\n",
    "print(Function2(10,20,40,60,70))\n",
    "print(Function2(10,20,40,60,70,90))"
   ]
  },
  {
   "cell_type": "markdown",
   "id": "8972fb20-e06f-4732-984e-3b6dab5f7836",
   "metadata": {},
   "source": [
    "#### **Write a function that takes any number of integers and returns only the even numbers as a list.**"
   ]
  },
  {
   "cell_type": "code",
   "execution_count": 22,
   "id": "b7d0b792-f5a6-4c2e-8f55-244cd6f70ec4",
   "metadata": {},
   "outputs": [
    {
     "name": "stdout",
     "output_type": "stream",
     "text": [
      "[10]\n",
      "[10, 20, 60]\n",
      "[10, 20, 40, 60, 70]\n",
      "[10, 20, 40, 60, 70]\n"
     ]
    }
   ],
   "source": [
    "def Function2(*args):\n",
    "    list1 = []\n",
    "    for i in args:\n",
    "        if i%2==0:\n",
    "            list1.append(i)\n",
    "    return list1\n",
    "\n",
    "print(Function2(10,15))\n",
    "print(Function2(10,20,25,65,60))\n",
    "print(Function2(10,20,40,60,70,7))\n",
    "print(Function2(10,20,40,60,70,99))"
   ]
  },
  {
   "cell_type": "markdown",
   "id": "3d791ea8-d777-40e6-9b65-32a8a1073ff6",
   "metadata": {},
   "source": [
    "#### **Write a function that takes any number of numbers and returns the maximum and minimum values.**"
   ]
  },
  {
   "cell_type": "code",
   "execution_count": 25,
   "id": "c1e4ae46-f951-4607-ae0c-2d2ae8806a15",
   "metadata": {},
   "outputs": [
    {
     "name": "stdout",
     "output_type": "stream",
     "text": [
      "(15, 10)\n",
      "(65, 10)\n",
      "(70, 7)\n",
      "(99, 10)\n"
     ]
    }
   ],
   "source": [
    "def Function2(*args):\n",
    "    max = float('-inf')\n",
    "    min = float('inf')\n",
    "\n",
    "    for i in args:\n",
    "        if i > max:\n",
    "            max = i\n",
    "        if i < min:\n",
    "            min = i\n",
    "    return max,min\n",
    "\n",
    "print(Function2(10,15))\n",
    "print(Function2(10,20,25,65,60))\n",
    "print(Function2(10,20,40,60,70,7))\n",
    "print(Function2(10,20,40,60,70,99))"
   ]
  },
  {
   "cell_type": "markdown",
   "id": "c988dfe4-df11-41f4-947d-e720d3ebead8",
   "metadata": {},
   "source": [
    "#### **Write a function that prints each argument on a separate line.**"
   ]
  },
  {
   "cell_type": "code",
   "execution_count": 32,
   "id": "b643e2c0-2429-4053-99a9-a5a0e2ab32a7",
   "metadata": {},
   "outputs": [
    {
     "name": "stdout",
     "output_type": "stream",
     "text": [
      "10\n",
      "15\n",
      "---\n",
      "10\n",
      "20\n",
      "25\n",
      "65\n",
      "60\n",
      "---\n",
      "10\n",
      "20\n",
      "40\n",
      "60\n",
      "70\n",
      "7\n",
      "---\n",
      "10\n",
      "20\n",
      "40\n",
      "60\n",
      "70\n",
      "99\n"
     ]
    }
   ],
   "source": [
    "def Function2(*args):\n",
    "    for i in args:\n",
    "        print(i)\n",
    "\n",
    "Function2(10, 15)\n",
    "print(\"---\")\n",
    "Function2(10, 20, 25, 65, 60)\n",
    "print(\"---\")\n",
    "Function2(10, 20, 40, 60, 70, 7)\n",
    "print(\"---\")\n",
    "Function2(10, 20, 40, 60, 70, 99)"
   ]
  },
  {
   "cell_type": "markdown",
   "id": "31683792-1a73-4bb8-b036-0bb636009341",
   "metadata": {},
   "source": [
    "#### **Write a function that returns the count of all arguments passed to it.**"
   ]
  },
  {
   "cell_type": "code",
   "execution_count": 37,
   "id": "b82f98d8-e703-436b-a91b-12697bca165f",
   "metadata": {},
   "outputs": [
    {
     "name": "stdout",
     "output_type": "stream",
     "text": [
      "abc-def-\n",
      "------\n",
      "abc-def-ghi-"
     ]
    }
   ],
   "source": [
    "def Function2(*args):\n",
    "    for i in args:\n",
    "        print(i,end=\"-\")\n",
    "\n",
    "Function2(\"abc\",\"def\")\n",
    "print(\"\\n------\")\n",
    "Function2(\"abc\",\"def\",\"ghi\")"
   ]
  },
  {
   "cell_type": "markdown",
   "id": "e70d9a71-04b1-4aae-800c-da3b06c9a5fb",
   "metadata": {},
   "source": [
    "#### **Write a function that accepts any number of string arguments and returns a single string with all of them joined using a hyphen.**"
   ]
  },
  {
   "cell_type": "code",
   "execution_count": null,
   "id": "c2f8e0a9-398a-481a-a904-db131df2f348",
   "metadata": {},
   "outputs": [],
   "source": [
    "def Function2(*args):\n",
    "\n",
    "    count = 0\n",
    "    for i in args:\n",
    "        count += 1\n",
    "    return count\n",
    "\n",
    "print(Function2(10))\n",
    "print(Function2(10,20,40,60))\n",
    "print(Function2(10,20,40,60,70))\n",
    "print(Function2(10,20,40,60,70,90))"
   ]
  },
  {
   "cell_type": "code",
   "execution_count": 38,
   "id": "2aa2023b-a6de-4b0f-a626-b5499e308999",
   "metadata": {},
   "outputs": [
    {
     "name": "stdout",
     "output_type": "stream",
     "text": [
      "Count: 1, Name: Hi\n",
      "Count: 4, Name: Hi\n",
      "Count: 5, Name: Hi\n",
      "Count: 6, Name: Hi\n"
     ]
    }
   ],
   "source": [
    "def Function2(*args,name):\n",
    "\n",
    "    count = 0\n",
    "    for i in args:\n",
    "        count += 1\n",
    "    return f\"Count: {count}, Name: {name}\"\n",
    "    \n",
    "\n",
    "print(Function2(10,name=\"Hi\"))\n",
    "print(Function2(10,20,40,60,name=\"Hi\"))\n",
    "print(Function2(10,20,40,60,70,name=\"Hi\"))\n",
    "print(Function2(10,20,40,60,70,90,name=\"Hi\"))"
   ]
  },
  {
   "cell_type": "code",
   "execution_count": null,
   "id": "b862ccce-b055-4df0-97b3-e423b3c4f5a9",
   "metadata": {},
   "outputs": [],
   "source": []
  }
 ],
 "metadata": {
  "kernelspec": {
   "display_name": "Python 3 (ipykernel)",
   "language": "python",
   "name": "python3"
  },
  "language_info": {
   "codemirror_mode": {
    "name": "ipython",
    "version": 3
   },
   "file_extension": ".py",
   "mimetype": "text/x-python",
   "name": "python",
   "nbconvert_exporter": "python",
   "pygments_lexer": "ipython3",
   "version": "3.11.7"
  },
  "widgets": {
   "application/vnd.jupyter.widget-state+json": {
    "state": {},
    "version_major": 2,
    "version_minor": 0
   }
  }
 },
 "nbformat": 4,
 "nbformat_minor": 5
}
