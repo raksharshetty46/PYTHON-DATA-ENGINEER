{
 "cells": [
  {
   "cell_type": "markdown",
   "id": "f22527a5-fd01-4d35-be59-4b3db20574e8",
   "metadata": {},
   "source": [
    "-------\n",
    "\n",
    "## Basic Try-Except"
   ]
  },
  {
   "cell_type": "code",
   "execution_count": 1,
   "id": "ce74ea91-2da2-48c7-ba9f-1c479b7d8de0",
   "metadata": {},
   "outputs": [
    {
     "name": "stdout",
     "output_type": "stream",
     "text": [
      "Cannot Divide By Zero\n"
     ]
    }
   ],
   "source": [
    "try: \n",
    "    x=10/0\n",
    "except:\n",
    "    print(\"Cannot Divide By Zero\")"
   ]
  },
  {
   "cell_type": "markdown",
   "id": "2c13c546-b290-45c5-8ede-11939dab4cff",
   "metadata": {},
   "source": [
    "------"
   ]
  },
  {
   "cell_type": "markdown",
   "id": "8ed5c85d-8832-419f-9c3b-aa8ffaca16c2",
   "metadata": {},
   "source": [
    "## Try Except with File Handling"
   ]
  },
  {
   "cell_type": "code",
   "execution_count": 3,
   "id": "20538248-4f32-4f34-ad57-4db5d2bcc380",
   "metadata": {},
   "outputs": [
    {
     "name": "stdout",
     "output_type": "stream",
     "text": [
      "File is Created\n"
     ]
    }
   ],
   "source": [
    "try:\n",
    "    open(\"text1.txt\",\"x\")\n",
    "except:\n",
    "    print(\"File Already Exist\")\n",
    "else:\n",
    "    print(\"File is Created\")"
   ]
  },
  {
   "cell_type": "code",
   "execution_count": 8,
   "id": "6f6834aa-11c2-4bcb-abaa-2da89dfd8224",
   "metadata": {},
   "outputs": [
    {
     "name": "stdin",
     "output_type": "stream",
     "text": [
      "Enter a number:  A\n"
     ]
    },
    {
     "name": "stdout",
     "output_type": "stream",
     "text": [
      "Please enter only numbers! Error: invalid literal for int() with base 10: 'A'\n",
      "Thank you for using the caculator!\n"
     ]
    }
   ],
   "source": [
    "try:\r\n",
    "    num1 = int(input(\"Enter a number: \"))  # user input, can cause ValueError\r\n",
    "    num2 = int(input(\"Enter another number: \"))\r\n",
    "    result = num1 / num2                    # can cause ZeroDivisionError\r\n",
    "except ValueError as ve:\r\n",
    "    print(\"Please enter only numbers! Error:\", ve)\r\n",
    "except ZeroDivisionError as zde:\r\n",
    "    print(\"Cannot divide by zero! Error:\", zde)\r\n",
    "else:\r\n",
    "    print(\"Result is:\", result)\r\n",
    "finally:\r\n",
    "    print(\"Thank you for using the cculator!\")\r\n"
   ]
  },
  {
   "cell_type": "markdown",
   "id": "e8d4e0e5-3010-4d1b-bcb1-65632cc42fb3",
   "metadata": {},
   "source": [
    "-------"
   ]
  },
  {
   "cell_type": "code",
   "execution_count": null,
   "id": "502b414f-6587-46a4-b193-3f3c77637c7e",
   "metadata": {},
   "outputs": [],
   "source": []
  }
 ],
 "metadata": {
  "kernelspec": {
   "display_name": "Python 3 (ipykernel)",
   "language": "python",
   "name": "python3"
  },
  "language_info": {
   "codemirror_mode": {
    "name": "ipython",
    "version": 3
   },
   "file_extension": ".py",
   "mimetype": "text/x-python",
   "name": "python",
   "nbconvert_exporter": "python",
   "pygments_lexer": "ipython3",
   "version": "3.11.7"
  },
  "widgets": {
   "application/vnd.jupyter.widget-state+json": {
    "state": {},
    "version_major": 2,
    "version_minor": 0
   }
  }
 },
 "nbformat": 4,
 "nbformat_minor": 5
}
