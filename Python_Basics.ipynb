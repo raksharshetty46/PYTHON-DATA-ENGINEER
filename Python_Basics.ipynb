{
 "cells": [
  {
   "cell_type": "markdown",
   "id": "50d63358-f4df-4069-be49-a00b95193469",
   "metadata": {},
   "source": [
    "## print() function"
   ]
  },
  {
   "cell_type": "markdown",
   "id": "7a4c28cf-7fe5-4139-9f09-3fd1c43fe336",
   "metadata": {},
   "source": [
    "-------"
   ]
  },
  {
   "cell_type": "code",
   "execution_count": 2,
   "id": "1ce5e255-0836-40ff-89ee-4a4654d87dbc",
   "metadata": {},
   "outputs": [
    {
     "name": "stdout",
     "output_type": "stream",
     "text": [
      "10\n"
     ]
    }
   ],
   "source": [
    "print(10)"
   ]
  },
  {
   "cell_type": "code",
   "execution_count": 3,
   "id": "e045789a-f368-4846-908f-195464138197",
   "metadata": {},
   "outputs": [
    {
     "name": "stdout",
     "output_type": "stream",
     "text": [
      "Raksha\n"
     ]
    }
   ],
   "source": [
    "print(\"Raksha\")"
   ]
  },
  {
   "cell_type": "code",
   "execution_count": 5,
   "id": "b2efcd87-d141-4dd9-83dd-01439bf5cd51",
   "metadata": {},
   "outputs": [
    {
     "name": "stdout",
     "output_type": "stream",
     "text": [
      "Raksha\n"
     ]
    }
   ],
   "source": [
    "name = \"Raksha\"\n",
    "print(name)"
   ]
  },
  {
   "cell_type": "code",
   "execution_count": 6,
   "id": "d7940dc0-60e9-4cd7-84e3-0ecd3b0eac34",
   "metadata": {},
   "outputs": [
    {
     "name": "stdout",
     "output_type": "stream",
     "text": [
      "10\n"
     ]
    }
   ],
   "source": [
    "number = 10\n",
    "print(number)"
   ]
  },
  {
   "cell_type": "code",
   "execution_count": 7,
   "id": "82af5ca5-919d-4a38-9966-422ddd2036ad",
   "metadata": {},
   "outputs": [
    {
     "name": "stdout",
     "output_type": "stream",
     "text": [
      "Name is: Raksha, Age is: 10.\n"
     ]
    }
   ],
   "source": [
    "print(f\"Name is: {name}, Age is: {number}.\")"
   ]
  },
  {
   "cell_type": "code",
   "execution_count": 8,
   "id": "6f6bb517-9c87-4020-af01-a7e1f750cde2",
   "metadata": {},
   "outputs": [
    {
     "name": "stdout",
     "output_type": "stream",
     "text": [
      "Hello\n",
      "World\n"
     ]
    }
   ],
   "source": [
    "print(\"Hello\\nWorld\")"
   ]
  },
  {
   "cell_type": "code",
   "execution_count": 9,
   "id": "7a193fd7-dab9-4c4f-a04c-a98195bc3390",
   "metadata": {},
   "outputs": [
    {
     "name": "stdout",
     "output_type": "stream",
     "text": [
      "Hello\tWorld\n"
     ]
    }
   ],
   "source": [
    "print(\"Hello\\tWorld\")"
   ]
  },
  {
   "cell_type": "code",
   "execution_count": 11,
   "id": "7b1f38bf-e34f-4033-9f1c-e017bdcfcd21",
   "metadata": {},
   "outputs": [
    {
     "name": "stdout",
     "output_type": "stream",
     "text": [
      "Hello World\n"
     ]
    }
   ],
   "source": [
    "print(\"Hello\",end =\" \")\n",
    "print(\"World\")"
   ]
  },
  {
   "cell_type": "code",
   "execution_count": 12,
   "id": "30869aa9-9f4b-4831-8642-5879c6054d08",
   "metadata": {},
   "outputs": [
    {
     "name": "stdout",
     "output_type": "stream",
     "text": [
      "06-04-2004\n"
     ]
    }
   ],
   "source": [
    "print(\"06\",\"04\",\"2004\",sep=\"-\")"
   ]
  },
  {
   "cell_type": "code",
   "execution_count": 13,
   "id": "264ebbea-3913-480b-a31f-4c595e680635",
   "metadata": {},
   "outputs": [
    {
     "name": "stdout",
     "output_type": "stream",
     "text": [
      "06|04|2004\n"
     ]
    }
   ],
   "source": [
    "print(\"06\",\"04\",\"2004\",sep=\"|\")"
   ]
  },
  {
   "cell_type": "code",
   "execution_count": 14,
   "id": "83509af6-52c7-4b13-bf5b-ec70129876cf",
   "metadata": {},
   "outputs": [
    {
     "name": "stdout",
     "output_type": "stream",
     "text": [
      "06/04/2004\n"
     ]
    }
   ],
   "source": [
    "print(\"06\",\"04\",\"2004\",sep=\"/\")"
   ]
  },
  {
   "cell_type": "code",
   "execution_count": 15,
   "id": "2044655d-4a09-4cd1-9e07-282f920eedd9",
   "metadata": {},
   "outputs": [
    {
     "name": "stdout",
     "output_type": "stream",
     "text": [
      "[1, 2, 3, 4, 5, 6, 7, 8, 9, 10]\n"
     ]
    }
   ],
   "source": [
    "list = [1,2,3,4,5,6,7,8,9,10]\n",
    "print(list)"
   ]
  },
  {
   "cell_type": "code",
   "execution_count": 16,
   "id": "d3c4c495-4582-4419-967b-18e230eaf4dd",
   "metadata": {},
   "outputs": [
    {
     "name": "stdout",
     "output_type": "stream",
     "text": [
      "{'Name': 'Raksha', 'Age': 21}\n"
     ]
    }
   ],
   "source": [
    "dictionary = {\"Name\":\"Raksha\",\"Age\":21}\n",
    "print(dictionary)"
   ]
  },
  {
   "cell_type": "markdown",
   "id": "2f4e1d07-c7d6-4898-8c7c-3edd879db91f",
   "metadata": {},
   "source": [
    "-------"
   ]
  },
  {
   "cell_type": "markdown",
   "id": "a00d901a-ef77-40be-9f98-323897702a71",
   "metadata": {},
   "source": [
    "## String Operations"
   ]
  },
  {
   "cell_type": "markdown",
   "id": "52601af8-9acf-4bb3-b36c-a25b59a29a20",
   "metadata": {},
   "source": [
    "------------------------------------------------------------------------"
   ]
  },
  {
   "cell_type": "code",
   "execution_count": 17,
   "id": "ddaeba4f-1e7b-41af-bf1b-184a188db795",
   "metadata": {},
   "outputs": [],
   "source": [
    "string = \"hello\"\n",
    "\n",
    "## string = 'hello'"
   ]
  },
  {
   "cell_type": "code",
   "execution_count": 26,
   "id": "0b46be84-e2a0-457d-a3f2-cc5997ea5fbb",
   "metadata": {},
   "outputs": [
    {
     "name": "stdout",
     "output_type": "stream",
     "text": [
      "Hello\n",
      "World\n"
     ]
    }
   ],
   "source": [
    "string1 = '''Hello\n",
    "World'''\n",
    "print(string1)\n",
    "\n",
    "## Multiline Comments"
   ]
  },
  {
   "cell_type": "code",
   "execution_count": 27,
   "id": "f11f92a9-d142-480f-8094-91c33e6113b0",
   "metadata": {},
   "outputs": [
    {
     "data": {
      "text/plain": [
       "'H'"
      ]
     },
     "execution_count": 27,
     "metadata": {},
     "output_type": "execute_result"
    }
   ],
   "source": [
    "## Indexing\n",
    "\n",
    "string1[0]"
   ]
  },
  {
   "cell_type": "code",
   "execution_count": 30,
   "id": "8feef5b5-6f7f-4bea-8e87-65d94bf93eec",
   "metadata": {},
   "outputs": [
    {
     "data": {
      "text/plain": [
       "'ell'"
      ]
     },
     "execution_count": 30,
     "metadata": {},
     "output_type": "execute_result"
    }
   ],
   "source": [
    "## Slicing\n",
    "\n",
    "string[1:4]\n"
   ]
  },
  {
   "cell_type": "code",
   "execution_count": 31,
   "id": "98bbad33-f6ff-4001-a64b-a1d2692128ae",
   "metadata": {},
   "outputs": [
    {
     "data": {
      "text/plain": [
       "'HELLO\\n            WORLD'"
      ]
     },
     "execution_count": 31,
     "metadata": {},
     "output_type": "execute_result"
    }
   ],
   "source": [
    "## Upper\n",
    "\n",
    "string.upper()"
   ]
  },
  {
   "cell_type": "code",
   "execution_count": 32,
   "id": "7618b291-5f6e-43a0-a3b7-582a84abfd74",
   "metadata": {},
   "outputs": [
    {
     "data": {
      "text/plain": [
       "'hello\\n            world'"
      ]
     },
     "execution_count": 32,
     "metadata": {},
     "output_type": "execute_result"
    }
   ],
   "source": [
    "## lower\n",
    "\n",
    "string.lower()"
   ]
  },
  {
   "cell_type": "code",
   "execution_count": 34,
   "id": "68132706-0f04-4203-b827-f6313f4d40df",
   "metadata": {},
   "outputs": [
    {
     "data": {
      "text/plain": [
       "'Abc def'"
      ]
     },
     "execution_count": 34,
     "metadata": {},
     "output_type": "execute_result"
    }
   ],
   "source": [
    "## First letter capital\n",
    "\n",
    "string =\"abc def\"\n",
    "string.capitalize()"
   ]
  },
  {
   "cell_type": "code",
   "execution_count": 35,
   "id": "2451262f-6e42-44f0-bada-1a367baa7889",
   "metadata": {},
   "outputs": [
    {
     "data": {
      "text/plain": [
       "'Abc Def'"
      ]
     },
     "execution_count": 35,
     "metadata": {},
     "output_type": "execute_result"
    }
   ],
   "source": [
    "## Capitalize eac word\n",
    "\n",
    "string =\"abc def\"\n",
    "string.title()"
   ]
  },
  {
   "cell_type": "code",
   "execution_count": 36,
   "id": "a8ef19fe-4c7e-4eeb-9f37-8fce56092bd3",
   "metadata": {},
   "outputs": [
    {
     "data": {
      "text/plain": [
       "'ABC DEF'"
      ]
     },
     "execution_count": 36,
     "metadata": {},
     "output_type": "execute_result"
    }
   ],
   "source": [
    "## To swap upper to lower and vice versa\n",
    "\n",
    "string.swapcase()"
   ]
  },
  {
   "cell_type": "code",
   "execution_count": 2,
   "id": "ec180ca6-d9bc-4772-be3c-9f5cf31a4571",
   "metadata": {},
   "outputs": [
    {
     "name": "stdout",
     "output_type": "stream",
     "text": [
      "\n",
      "Hello World \n",
      "Bye\n"
     ]
    }
   ],
   "source": [
    "print(\"\\nHello World \\nBye\")"
   ]
  },
  {
   "cell_type": "code",
   "execution_count": 4,
   "id": "713a6a98-287f-49ab-bd1d-38e8a70414b9",
   "metadata": {},
   "outputs": [
    {
     "name": "stdout",
     "output_type": "stream",
     "text": [
      "\n",
      "HelloWorld\tBye\n"
     ]
    }
   ],
   "source": [
    "print(\"\\nHelloWorld\\tBye\")"
   ]
  },
  {
   "cell_type": "code",
   "execution_count": null,
   "id": "33eb44a5-eac4-48f1-a61b-174ae456d71c",
   "metadata": {},
   "outputs": [],
   "source": [
    "print(\"\\nHello World \\nBye\")"
   ]
  },
  {
   "cell_type": "code",
   "execution_count": null,
   "id": "76cb86a9-6c67-4d3d-b219-ddc8936d9380",
   "metadata": {},
   "outputs": [],
   "source": []
  }
 ],
 "metadata": {
  "kernelspec": {
   "display_name": "Python 3 (ipykernel)",
   "language": "python",
   "name": "python3"
  },
  "language_info": {
   "codemirror_mode": {
    "name": "ipython",
    "version": 3
   },
   "file_extension": ".py",
   "mimetype": "text/x-python",
   "name": "python",
   "nbconvert_exporter": "python",
   "pygments_lexer": "ipython3",
   "version": "3.11.7"
  },
  "widgets": {
   "application/vnd.jupyter.widget-state+json": {
    "state": {},
    "version_major": 2,
    "version_minor": 0
   }
  }
 },
 "nbformat": 4,
 "nbformat_minor": 5
}
