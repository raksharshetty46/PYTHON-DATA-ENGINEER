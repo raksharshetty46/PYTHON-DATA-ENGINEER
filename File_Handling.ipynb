{
 "cells": [
  {
   "cell_type": "markdown",
   "id": "83a1d277-f5f8-4977-9151-460b89c4549f",
   "metadata": {},
   "source": [
    "\n",
    "# **File Handling**\n",
    "\n",
    "------------"
   ]
  },
  {
   "cell_type": "markdown",
   "id": "11444a26-fc17-4d8c-8343-9a7dcc2a9bc2",
   "metadata": {},
   "source": [
    "## **1. Opening Files**"
   ]
  },
  {
   "cell_type": "markdown",
   "id": "64a4dca6-5c4a-4adf-807f-afb819ba4332",
   "metadata": {},
   "source": [
    "-------------------\n",
    "\n",
    "**Write Mode (w)**\n",
    "- Creates the File If doesnot exist.\n",
    "- Overwrites the file if alreay exists (removes old content)\n",
    "- Use when you want to write fresh data"
   ]
  },
  {
   "cell_type": "code",
   "execution_count": 42,
   "id": "2b6fbfdd-3725-43cf-8795-621c303b3f99",
   "metadata": {},
   "outputs": [
    {
     "data": {
      "text/plain": [
       "<_io.TextIOWrapper name='base1.txt' mode='w' encoding='cp1252'>"
      ]
     },
     "execution_count": 42,
     "metadata": {},
     "output_type": "execute_result"
    }
   ],
   "source": [
    "file = open(\"base1.txt\",\"w\")\n",
    "file"
   ]
  },
  {
   "cell_type": "markdown",
   "id": "6b5f09d8-4b18-4cfb-9ca9-97bbe0305bad",
   "metadata": {},
   "source": [
    "**Read Mode (r)**\n",
    "- Creates the File for reading only.\n",
    "- File must exists otherwise it will give an error.\n",
    "- Use when you want to read content of existing file\n"
   ]
  },
  {
   "cell_type": "code",
   "execution_count": 33,
   "id": "7314b563-8659-4f65-afd2-5cd258de6698",
   "metadata": {},
   "outputs": [
    {
     "data": {
      "text/plain": [
       "<_io.TextIOWrapper name='base1.txt' mode='r' encoding='cp1252'>"
      ]
     },
     "execution_count": 33,
     "metadata": {},
     "output_type": "execute_result"
    }
   ],
   "source": [
    "file = open(\"base1.txt\",\"r\")\n",
    "file"
   ]
  },
  {
   "cell_type": "markdown",
   "id": "06e24f25-f9e5-4dce-86e0-e8dc80fb5f5b",
   "metadata": {},
   "source": [
    "**Append Mode (a)**\n",
    "- Open the File to add content at the end.\n",
    "- File is created if it is doenot exist\n",
    "- Doesnot Remove Existing Content\n"
   ]
  },
  {
   "cell_type": "code",
   "execution_count": 43,
   "id": "2f3868f8-77b4-48b9-9f3e-5310fefc38b6",
   "metadata": {},
   "outputs": [
    {
     "data": {
      "text/plain": [
       "<_io.TextIOWrapper name='base1.txt' mode='a' encoding='cp1252'>"
      ]
     },
     "execution_count": 43,
     "metadata": {},
     "output_type": "execute_result"
    }
   ],
   "source": [
    "file = open(\"base1.txt\",\"a\")\n",
    "file"
   ]
  },
  {
   "cell_type": "markdown",
   "id": "909b97fb-a394-42d6-9296-dc06d4898317",
   "metadata": {},
   "source": [
    "**Exclusive Creation Mode (x)**\n",
    "- Creates the new File but give error if it is already exists.\n",
    "- Use when you want to create file only if it doesnot already exists.\n"
   ]
  },
  {
   "cell_type": "code",
   "execution_count": 45,
   "id": "92b79715-ea92-4615-8d35-77074806e88e",
   "metadata": {},
   "outputs": [
    {
     "data": {
      "text/plain": [
       "<_io.TextIOWrapper name='base111.txt' mode='x' encoding='cp1252'>"
      ]
     },
     "execution_count": 45,
     "metadata": {},
     "output_type": "execute_result"
    }
   ],
   "source": [
    "file = open(\"base111.txt\",\"x\")\n",
    "file"
   ]
  },
  {
   "cell_type": "markdown",
   "id": "2e3993b7-5a37-487b-a900-33e0412d07ff",
   "metadata": {},
   "source": [
    "--------------------"
   ]
  },
  {
   "cell_type": "markdown",
   "id": "c773b870-27e8-4b74-a58b-bf3ac2407b7d",
   "metadata": {},
   "source": [
    "## **2. Reading Files**"
   ]
  },
  {
   "cell_type": "markdown",
   "id": "c3511341-843e-458a-89de-696171acae59",
   "metadata": {},
   "source": [
    "-------------------------"
   ]
  },
  {
   "cell_type": "code",
   "execution_count": 51,
   "id": "210bcb20-bff8-4a84-af4a-0c277863aaa2",
   "metadata": {},
   "outputs": [
    {
     "data": {
      "text/plain": [
       "'Hello\\nWorld\\nBye'"
      ]
     },
     "execution_count": 51,
     "metadata": {},
     "output_type": "execute_result"
    }
   ],
   "source": [
    "f = open(\"base1.txt\",\"r\")\n",
    "f.read()  # It reads the whole file"
   ]
  },
  {
   "cell_type": "code",
   "execution_count": 52,
   "id": "6090ed4f-86e2-48d4-aa85-2935d50fd762",
   "metadata": {},
   "outputs": [
    {
     "data": {
      "text/plain": [
       "''"
      ]
     },
     "execution_count": 52,
     "metadata": {},
     "output_type": "execute_result"
    }
   ],
   "source": [
    "f.readline()  "
   ]
  },
  {
   "cell_type": "code",
   "execution_count": 53,
   "id": "68b65863-68e1-433f-914e-4c0ec3688aa1",
   "metadata": {},
   "outputs": [
    {
     "data": {
      "text/plain": [
       "[]"
      ]
     },
     "execution_count": 53,
     "metadata": {},
     "output_type": "execute_result"
    }
   ],
   "source": [
    "f.readlines()  # It reads all lines into a list"
   ]
  },
  {
   "cell_type": "markdown",
   "id": "b2f0d397-b6a4-4d02-972a-c26501e2e444",
   "metadata": {},
   "source": [
    "--------------------------------"
   ]
  },
  {
   "cell_type": "markdown",
   "id": "4fb72d86-2bc6-468b-8574-bee566450cdc",
   "metadata": {},
   "source": [
    "## **3. Writing to Files**"
   ]
  },
  {
   "cell_type": "code",
   "execution_count": 56,
   "id": "34e8701b-932b-46d1-8938-6d89d4e41d98",
   "metadata": {},
   "outputs": [
    {
     "data": {
      "text/plain": [
       "15"
      ]
     },
     "execution_count": 56,
     "metadata": {},
     "output_type": "execute_result"
    }
   ],
   "source": [
    "file = open(\"base1.txt\",\"w\")\n",
    "file.write(\"Hello World Bye\")"
   ]
  },
  {
   "cell_type": "markdown",
   "id": "cd602e2a-0170-4fcd-b6cd-cba8054d894e",
   "metadata": {},
   "source": [
    "-----------------------"
   ]
  },
  {
   "cell_type": "markdown",
   "id": "aae72ecb-d96e-47c0-8c85-3f4622adf1d7",
   "metadata": {},
   "source": [
    "## **4. Close Files**"
   ]
  },
  {
   "cell_type": "markdown",
   "id": "2c32e9eb-79ae-4900-b057-86f79e41afeb",
   "metadata": {},
   "source": [
    "#### - Important to free up system"
   ]
  },
  {
   "cell_type": "code",
   "execution_count": 57,
   "id": "c841980c-fb81-43fe-b1d5-a0a13f4c476a",
   "metadata": {},
   "outputs": [],
   "source": [
    "file.close()"
   ]
  },
  {
   "cell_type": "markdown",
   "id": "14e3f338-f5e9-4a66-b5d9-939b362acd00",
   "metadata": {},
   "source": [
    "-----------------------"
   ]
  },
  {
   "cell_type": "markdown",
   "id": "810d8ff9-e517-4caf-999e-e11040482851",
   "metadata": {},
   "source": [
    "## **5. Using With Statement (Best Practices)**"
   ]
  },
  {
   "cell_type": "code",
   "execution_count": 60,
   "id": "618613a4-41f5-4c68-9ee8-67ba4c16bf95",
   "metadata": {},
   "outputs": [],
   "source": [
    "with open(\"base.txt\",\"r\") as file:\n",
    "    content = file.read()"
   ]
  },
  {
   "cell_type": "markdown",
   "id": "eb512a97-9031-479a-a612-7e7ab90a84d1",
   "metadata": {},
   "source": [
    "- Automatically Closes The File\n",
    "- Safer and Cleaner Code"
   ]
  },
  {
   "cell_type": "markdown",
   "id": "156a765c-8946-4f9e-9661-84d5b49b711d",
   "metadata": {},
   "source": [
    "----------------"
   ]
  },
  {
   "cell_type": "markdown",
   "id": "0fd414f2-d586-4680-bb9f-4bb7637b23fa",
   "metadata": {},
   "source": [
    "## **6. Working with csv Files**"
   ]
  },
  {
   "cell_type": "code",
   "execution_count": 66,
   "id": "3903ed1d-0f57-4297-a792-6be5b5f53101",
   "metadata": {},
   "outputs": [],
   "source": [
    "import csv"
   ]
  },
  {
   "cell_type": "code",
   "execution_count": 67,
   "id": "3a4a5d1a-1632-413b-8694-258436f477ae",
   "metadata": {},
   "outputs": [],
   "source": [
    "with open(\"stroke1.csv\",\"r\") as file:\n",
    "    reader = csv.reader(file)\n",
    "    for row in reader:\n",
    "        print(row)"
   ]
  },
  {
   "cell_type": "markdown",
   "id": "d5c1ee47-e8c7-4792-ba3e-d602a0af0a7e",
   "metadata": {},
   "source": [
    "- Use csv.reader() to read and csv.writer() to write files."
   ]
  },
  {
   "cell_type": "markdown",
   "id": "167d8d10-53c2-4ee3-988f-ecb648a3d3ff",
   "metadata": {},
   "source": [
    "----------------------"
   ]
  },
  {
   "cell_type": "markdown",
   "id": "b69eae1b-a483-49a9-b55d-d4703d775654",
   "metadata": {},
   "source": [
    "## **7. Working with JSON Files**"
   ]
  },
  {
   "cell_type": "code",
   "execution_count": 68,
   "id": "662a859c-4857-4a82-a141-403fab07df6f",
   "metadata": {},
   "outputs": [],
   "source": [
    "import json"
   ]
  },
  {
   "cell_type": "code",
   "execution_count": null,
   "id": "aca4d8fe-3f70-46a3-ae5e-9c8a06113c13",
   "metadata": {},
   "outputs": [],
   "source": [
    "with open(\"stroke1.json\",\"r\") as file:\n",
    "    reader = json.load(file)\n",
    "\n",
    "with open(\"stroke1.json\",\"w\") as file:\n",
    "    json.dump(data,file)"
   ]
  },
  {
   "cell_type": "markdown",
   "id": "442e6b8b-8e58-4681-afaf-1a2ce44ce6b5",
   "metadata": {},
   "source": [
    "- JSON is used for API data, configurations etc."
   ]
  },
  {
   "cell_type": "markdown",
   "id": "5e52be39-bc9c-4412-84e4-4746a8e9c1eb",
   "metadata": {},
   "source": [
    "-----------------------"
   ]
  },
  {
   "cell_type": "markdown",
   "id": "a7d3bdaf-1415-44b9-b2da-650ea3986fdf",
   "metadata": {},
   "source": [
    "## **8. File Operations**"
   ]
  },
  {
   "cell_type": "code",
   "execution_count": 75,
   "id": "10a069f0-9d4d-4188-9bf3-b6f8c627626d",
   "metadata": {},
   "outputs": [],
   "source": [
    "import os"
   ]
  },
  {
   "cell_type": "markdown",
   "id": "e0d951e6-ae23-42e9-a44b-736d9881ddad",
   "metadata": {},
   "source": [
    "**`Rename File`**"
   ]
  },
  {
   "cell_type": "markdown",
   "id": "fa192587-6100-4b64-938b-fbb0613869e1",
   "metadata": {},
   "source": [
    "os.rename(\"old_file_name\",\"ne_file_name\")"
   ]
  },
  {
   "cell_type": "markdown",
   "id": "6dce4f72-bd36-4f85-984f-11ee50784be1",
   "metadata": {},
   "source": [
    "**`Delete File`**"
   ]
  },
  {
   "cell_type": "markdown",
   "id": "febeaf1d-9566-401a-828a-570b27a1f0e8",
   "metadata": {},
   "source": [
    "os.remove(\"file_name\")"
   ]
  },
  {
   "cell_type": "markdown",
   "id": "c11b0bff-94ba-405b-bf61-7fe6b01fb95c",
   "metadata": {},
   "source": [
    "**`Check if file Exists`**"
   ]
  },
  {
   "cell_type": "markdown",
   "id": "867299e7-f60e-486d-a034-d8077ffaec67",
   "metadata": {},
   "source": [
    "os.path.exists(\"file_name\")"
   ]
  },
  {
   "cell_type": "markdown",
   "id": "975274dc-f773-44ff-9bf4-7356ad4f1b3e",
   "metadata": {},
   "source": [
    "-----------------------"
   ]
  },
  {
   "cell_type": "markdown",
   "id": "fb0e0de1-664d-42b4-8eaf-63f6cadfc562",
   "metadata": {},
   "source": [
    "## **9. For Reading Large Files Line by Line**"
   ]
  },
  {
   "cell_type": "code",
   "execution_count": 78,
   "id": "982c13e8-6f3b-48cc-b444-cc6685d31b7c",
   "metadata": {},
   "outputs": [],
   "source": [
    "with open(\"big_file.txt\",\"r\") as file:\n",
    "    for line in file:\n",
    "        process(line)"
   ]
  },
  {
   "cell_type": "markdown",
   "id": "0a3ba63f-3ee2-4cc1-90ff-b9fe948fae37",
   "metadata": {},
   "source": [
    "- Important For loading Big Files without loading Everything into Memory"
   ]
  },
  {
   "cell_type": "markdown",
   "id": "e79dbf53-a551-47b3-8c74-4dbb70453663",
   "metadata": {},
   "source": [
    "----------------------"
   ]
  },
  {
   "cell_type": "markdown",
   "id": "4984da79-da5c-49f4-98fb-26d916f052fa",
   "metadata": {},
   "source": [
    "## **10. Reading Binary Files**"
   ]
  },
  {
   "cell_type": "markdown",
   "id": "6246f571-d368-4480-a9c6-50d7b0c55e96",
   "metadata": {},
   "source": [
    "- Example: images etc."
   ]
  },
  {
   "cell_type": "code",
   "execution_count": 81,
   "id": "371198c6-ab30-4698-a028-a6ca06a560b5",
   "metadata": {},
   "outputs": [],
   "source": [
    "with open(\"image.jpg\",\"rb\") as file:\n",
    "    data = file.read()"
   ]
  },
  {
   "cell_type": "markdown",
   "id": "222d3982-a223-47f1-aa15-504056f7e8e8",
   "metadata": {},
   "source": [
    "----------------------------"
   ]
  },
  {
   "cell_type": "markdown",
   "id": "55b83cef-2ee8-4a6d-9756-6f30b86aa4d9",
   "metadata": {},
   "source": [
    "## **Tasks**"
   ]
  },
  {
   "cell_type": "markdown",
   "id": "56b771b2-49c8-4c9d-9097-8fe8c8dd6b4c",
   "metadata": {},
   "source": [
    "-----------------\n",
    "\n",
    "### **Task1: Log File Cleaner**"
   ]
  },
  {
   "cell_type": "markdown",
   "id": "62ea3b55-5b27-4b2d-8149-789ed5fdc20b",
   "metadata": {},
   "source": [
    "#### **1. Read a Large .txt log File, Filter out only file that contain \"Error\" and save them to a new File.**"
   ]
  },
  {
   "cell_type": "code",
   "execution_count": 91,
   "id": "0455fea1-a1f1-4611-a3da-411ad3be8b61",
   "metadata": {},
   "outputs": [],
   "source": [
    "with open(\"large_file.txt\",\"r\") as inFile, open(\"error_logs.txt\",\"w\") as outFile:\n",
    "    for line in inFile:\n",
    "        if \"ERROR\" in line:\n",
    "            outFile.write(line)"
   ]
  },
  {
   "cell_type": "markdown",
   "id": "53e644ac-74f6-4bc6-982f-b35647174389",
   "metadata": {},
   "source": [
    "---------------"
   ]
  }
 ],
 "metadata": {
  "kernelspec": {
   "display_name": "Python 3 (ipykernel)",
   "language": "python",
   "name": "python3"
  },
  "language_info": {
   "codemirror_mode": {
    "name": "ipython",
    "version": 3
   },
   "file_extension": ".py",
   "mimetype": "text/x-python",
   "name": "python",
   "nbconvert_exporter": "python",
   "pygments_lexer": "ipython3",
   "version": "3.11.7"
  },
  "widgets": {
   "application/vnd.jupyter.widget-state+json": {
    "state": {},
    "version_major": 2,
    "version_minor": 0
   }
  }
 },
 "nbformat": 4,
 "nbformat_minor": 5
}
