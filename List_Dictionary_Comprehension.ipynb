{
 "cells": [
  {
   "cell_type": "markdown",
   "id": "6127eef1-db73-429a-b0e4-be31e2f7f6e6",
   "metadata": {},
   "source": [
    "## **List Comprehension**\n",
    "##### - **List comprehension offers a shorter syntax to create new lists from iterables like lists, strings, or ranges.**"
   ]
  },
  {
   "cell_type": "markdown",
   "id": "85aeb428-b83d-417c-8ec0-faa85f44ea59",
   "metadata": {},
   "source": [
    "#### **Syntax:**"
   ]
  },
  {
   "cell_type": "code",
   "execution_count": 3,
   "id": "6ac8314e-0317-4ebf-959f-b1bf99c24832",
   "metadata": {},
   "outputs": [],
   "source": [
    "# [expression for item in iterable if condition]"
   ]
  },
  {
   "cell_type": "markdown",
   "id": "2f7589d3-cd5f-4561-8b80-8c39f873ed31",
   "metadata": {},
   "source": [
    "### **Examples:**\n",
    "#### **1. Squares of numbers from 0 to 9**"
   ]
  },
  {
   "cell_type": "code",
   "execution_count": 5,
   "id": "cecc6f11-c399-4814-95fd-6bf8a065b091",
   "metadata": {},
   "outputs": [
    {
     "data": {
      "text/plain": [
       "[0, 1, 4, 9, 16, 25, 36, 49, 64, 81]"
      ]
     },
     "execution_count": 5,
     "metadata": {},
     "output_type": "execute_result"
    }
   ],
   "source": [
    "list1 = [i**2 for i in range(10)]\n",
    "list1"
   ]
  },
  {
   "cell_type": "markdown",
   "id": "17d7f2ef-e28e-40aa-b5ee-b68fd7a51cd5",
   "metadata": {},
   "source": [
    "#### **2. Even numbers from 0 to 20**"
   ]
  },
  {
   "cell_type": "code",
   "execution_count": 6,
   "id": "8b40e59c-501a-4110-bd37-a0a9e59d2b16",
   "metadata": {},
   "outputs": [
    {
     "data": {
      "text/plain": [
       "[2, 4, 6, 8, 10, 12, 14, 16, 18, 20]"
      ]
     },
     "execution_count": 6,
     "metadata": {},
     "output_type": "execute_result"
    }
   ],
   "source": [
    "list2 = [i for i in range(2,21,2)]\n",
    "list2"
   ]
  },
  {
   "cell_type": "code",
   "execution_count": 8,
   "id": "04f3bca8-76c7-4437-ad8a-e0ea7c916324",
   "metadata": {},
   "outputs": [
    {
     "name": "stdout",
     "output_type": "stream",
     "text": [
      "[2, 4, 6, 8, 10, 12, 14, 16, 18, 20]\n"
     ]
    }
   ],
   "source": [
    "list2 = [x for x in range(1,21) if x % 2 == 0]\n",
    "print(list2)"
   ]
  },
  {
   "cell_type": "markdown",
   "id": "9a329d3a-51ae-4ef8-a057-233c6fc3d2fb",
   "metadata": {},
   "source": [
    "#### **3. Convert list of strings to uppercase**"
   ]
  },
  {
   "cell_type": "code",
   "execution_count": 12,
   "id": "7abc1b65-705b-4dd4-a0d3-d33b50fec4ad",
   "metadata": {},
   "outputs": [
    {
     "data": {
      "text/plain": [
       "['APPLE', 'BANANA', 'CHERRY']"
      ]
     },
     "execution_count": 12,
     "metadata": {},
     "output_type": "execute_result"
    }
   ],
   "source": [
    "words = [\"apple\", \"banana\", \"cherry\"]\n",
    "words1 = [word.upper() for word in words]\n",
    "words1"
   ]
  },
  {
   "cell_type": "markdown",
   "id": "ebd1dce0-a138-4eb2-9a07-49d0fc313e7e",
   "metadata": {},
   "source": [
    "#### **4. Nested List Comprehension (2D matrix)**"
   ]
  },
  {
   "cell_type": "code",
   "execution_count": 15,
   "id": "4e6ca79d-b8f7-421d-bb70-1478cca9913f",
   "metadata": {},
   "outputs": [
    {
     "data": {
      "text/plain": [
       "[[1, 2, 3], [2, 4, 6], [3, 6, 9]]"
      ]
     },
     "execution_count": 15,
     "metadata": {},
     "output_type": "execute_result"
    }
   ],
   "source": [
    "list4 = [[i*j for j in range(1,4)]for i in range(1,4)]\n",
    "list4\n",
    "# Output: [[1, 2, 3], [2, 4, 6], [3, 6, 9]"
   ]
  },
  {
   "cell_type": "markdown",
   "id": "f282398c-ef8c-42e9-bf13-1f8a21c50e98",
   "metadata": {},
   "source": [
    "-------------\n",
    "\n",
    "## **Dictionary Comprehension**\n",
    "- Used to construct dictionaries in a concise way.\n"
   ]
  },
  {
   "cell_type": "markdown",
   "id": "15498182-497d-4552-ad9d-433845105f18",
   "metadata": {},
   "source": [
    "#### **Syntax:**"
   ]
  },
  {
   "cell_type": "code",
   "execution_count": 16,
   "id": "16f479ca-5027-4ecf-9419-a69b967f5fe1",
   "metadata": {},
   "outputs": [],
   "source": [
    "# {key_expression: value_expression for item in iterable if condition}"
   ]
  },
  {
   "cell_type": "markdown",
   "id": "077068a3-9edf-4d00-832f-d6f6a680f080",
   "metadata": {},
   "source": [
    "#### **1. Square of numbers as values**"
   ]
  },
  {
   "cell_type": "code",
   "execution_count": 18,
   "id": "dcd6cc5a-56ac-46fb-86ab-8e9ffbba2ac8",
   "metadata": {},
   "outputs": [
    {
     "name": "stdout",
     "output_type": "stream",
     "text": [
      "{0: 0, 1: 1, 2: 4, 3: 9, 4: 16, 5: 25}\n"
     ]
    }
   ],
   "source": [
    "squares_dict = {i:i**2 for i in range(0,6)}\n",
    "print(squares_dict)\n",
    "# Output: {0: 0, 1: 1, 2: 4, 3: 9, 4: 16, 5: 25}"
   ]
  },
  {
   "cell_type": "markdown",
   "id": "14743f19-04ae-43f4-80f8-6d3bf63ce12c",
   "metadata": {},
   "source": [
    "#### **2. Count length of each word**"
   ]
  },
  {
   "cell_type": "code",
   "execution_count": 20,
   "id": "6f232a1d-0d25-4deb-9471-d31542b92221",
   "metadata": {},
   "outputs": [
    {
     "name": "stdout",
     "output_type": "stream",
     "text": [
      "{'apple': 5, 'banana': 6, 'kiwi': 4}\n"
     ]
    }
   ],
   "source": [
    "words = [\"apple\",\"banana\",\"kiwi\"]\n",
    "length_word = {i:len(i) for i in words}\n",
    "print(length_word)"
   ]
  },
  {
   "cell_type": "markdown",
   "id": "5bec0301-ed21-4f96-9f44-df9cc98e86c5",
   "metadata": {},
   "source": [
    "#### **3. Filter even values into dictionary**"
   ]
  },
  {
   "cell_type": "code",
   "execution_count": 21,
   "id": "8c1ea8cc-07a9-47cd-b0b3-854ddaa83e7b",
   "metadata": {},
   "outputs": [
    {
     "name": "stdout",
     "output_type": "stream",
     "text": [
      "{0: 0, 2: 4, 4: 16, 6: 36, 8: 64}\n"
     ]
    }
   ],
   "source": [
    "numbers = range(0,10)\n",
    "filter1 = {i:i**2 for i in numbers if i%2==0}\n",
    "print(filter1)"
   ]
  },
  {
   "cell_type": "markdown",
   "id": "d208b666-01ea-4ff9-947c-c57ebf510d62",
   "metadata": {},
   "source": [
    "#### **4. Swap keys and values**"
   ]
  },
  {
   "cell_type": "code",
   "execution_count": 23,
   "id": "257dbbff-c769-464b-b407-b8dd4a98ad09",
   "metadata": {},
   "outputs": [
    {
     "name": "stdout",
     "output_type": "stream",
     "text": [
      "{1: 'A', 2: 'B', 3: 'C', 4: 'D'}\n"
     ]
    }
   ],
   "source": [
    "original = {\"A\":1,\"B\":2,\"C\":3,\"D\":4}\n",
    "new = {original[i]:i for i in original}\n",
    "print(new)"
   ]
  },
  {
   "cell_type": "code",
   "execution_count": null,
   "id": "69f8ffb4-b7aa-4950-8725-907af5e4dc22",
   "metadata": {},
   "outputs": [],
   "source": []
  }
 ],
 "metadata": {
  "kernelspec": {
   "display_name": "Python 3 (ipykernel)",
   "language": "python",
   "name": "python3"
  },
  "language_info": {
   "codemirror_mode": {
    "name": "ipython",
    "version": 3
   },
   "file_extension": ".py",
   "mimetype": "text/x-python",
   "name": "python",
   "nbconvert_exporter": "python",
   "pygments_lexer": "ipython3",
   "version": "3.11.7"
  },
  "widgets": {
   "application/vnd.jupyter.widget-state+json": {
    "state": {},
    "version_major": 2,
    "version_minor": 0
   }
  }
 },
 "nbformat": 4,
 "nbformat_minor": 5
}
