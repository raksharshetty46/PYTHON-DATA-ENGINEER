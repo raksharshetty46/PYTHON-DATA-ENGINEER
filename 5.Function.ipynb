{
 "cells": [
  {
   "cell_type": "markdown",
   "id": "08dc2103-c181-48d3-9813-8082182477db",
   "metadata": {},
   "source": [
    "## Function"
   ]
  },
  {
   "cell_type": "markdown",
   "id": "c09f7ca5-cd30-4e2a-9f90-98766d8f2a4c",
   "metadata": {},
   "source": [
    "-------"
   ]
  },
  {
   "cell_type": "markdown",
   "id": "1c3dd34f-66dd-4a55-a4a2-bfe3bd40617c",
   "metadata": {},
   "source": [
    "#### 1. No parameters, No return"
   ]
  },
  {
   "cell_type": "code",
   "execution_count": 1,
   "id": "00f2ff40-a8a6-445c-a4f0-412dd8da0f4f",
   "metadata": {},
   "outputs": [
    {
     "name": "stdout",
     "output_type": "stream",
     "text": [
      "Hello\n"
     ]
    }
   ],
   "source": [
    "def say_hello():\n",
    "    print(\"Hello\")\n",
    "say_hello()"
   ]
  },
  {
   "cell_type": "code",
   "execution_count": 2,
   "id": "07c0c807-c0d3-4fe6-b5dc-1cdaa418d4da",
   "metadata": {},
   "outputs": [
    {
     "name": "stdout",
     "output_type": "stream",
     "text": [
      "Hello\n"
     ]
    }
   ],
   "source": [
    "def say_hello():\n",
    "    return \"Hello\"\n",
    "print(say_hello())"
   ]
  },
  {
   "cell_type": "markdown",
   "id": "1a175ed2-0a25-445c-8079-f314bdd1f568",
   "metadata": {},
   "source": [
    "-------"
   ]
  },
  {
   "cell_type": "markdown",
   "id": "7a5dac00-f5bc-40b2-93e7-23e00900e34a",
   "metadata": {},
   "source": [
    "#### 2. With parameters"
   ]
  },
  {
   "cell_type": "code",
   "execution_count": 4,
   "id": "74719e5c-3c5a-4a7d-9749-537035277054",
   "metadata": {},
   "outputs": [
    {
     "name": "stdout",
     "output_type": "stream",
     "text": [
      "Hello Raksha\n"
     ]
    }
   ],
   "source": [
    "def greet(name):\n",
    "    print(\"Hello\",name)\n",
    "greet(\"Raksha\")"
   ]
  },
  {
   "cell_type": "markdown",
   "id": "a1f317cf-abe1-46e7-9af7-049dfad1c300",
   "metadata": {},
   "source": [
    "------"
   ]
  },
  {
   "cell_type": "markdown",
   "id": "7c649c6c-7c6f-48f3-855f-5cf1ae24b082",
   "metadata": {},
   "source": [
    "#### 3. With return value"
   ]
  },
  {
   "cell_type": "code",
   "execution_count": 6,
   "id": "afce6a7b-8700-4cf2-aa41-7e4945eaa4f1",
   "metadata": {},
   "outputs": [
    {
     "name": "stdout",
     "output_type": "stream",
     "text": [
      "25\n"
     ]
    }
   ],
   "source": [
    "def square(n):\n",
    "    return n*n\n",
    "\n",
    "result = square(5)\n",
    "print(result)"
   ]
  },
  {
   "cell_type": "markdown",
   "id": "499e02cc-5cf8-4d1d-b18c-1c851ab9a2a5",
   "metadata": {},
   "source": [
    "------"
   ]
  },
  {
   "cell_type": "markdown",
   "id": "0178c64c-82d6-4824-a1f6-22b870b11b0c",
   "metadata": {},
   "source": [
    "#### 4. Default Parameter"
   ]
  },
  {
   "cell_type": "code",
   "execution_count": 8,
   "id": "71263d95-3af5-4d1d-a0cd-733caf124059",
   "metadata": {},
   "outputs": [
    {
     "name": "stdout",
     "output_type": "stream",
     "text": [
      "Hello Data Engineer\n",
      "Hello Raksha\n"
     ]
    }
   ],
   "source": [
    "def greet(name=\"Data Engineer\"):\n",
    "    print(\"Hello\",name)\n",
    "    \n",
    "greet()\n",
    "greet(\"Raksha\")"
   ]
  },
  {
   "cell_type": "code",
   "execution_count": 9,
   "id": "334a6245-dffd-488a-8556-968cbe57f58a",
   "metadata": {},
   "outputs": [
    {
     "name": "stdout",
     "output_type": "stream",
     "text": [
      "Name is: Raksha, Role is: Data Engineer\n"
     ]
    }
   ],
   "source": [
    "def Profile(name,role):\n",
    "    print(f\"Name is: {name}, Role is: {role}\")\n",
    "Profile(role=\"Data Engineer\",name=\"Raksha\")"
   ]
  },
  {
   "cell_type": "markdown",
   "id": "a4831540-5b52-46fc-a35e-6ac090a1ac8b",
   "metadata": {},
   "source": [
    "-------"
   ]
  },
  {
   "cell_type": "code",
   "execution_count": null,
   "id": "a35cbb96-bb1c-49ea-a8f7-9ad9d7473e41",
   "metadata": {},
   "outputs": [],
   "source": []
  }
 ],
 "metadata": {
  "kernelspec": {
   "display_name": "Python 3 (ipykernel)",
   "language": "python",
   "name": "python3"
  },
  "language_info": {
   "codemirror_mode": {
    "name": "ipython",
    "version": 3
   },
   "file_extension": ".py",
   "mimetype": "text/x-python",
   "name": "python",
   "nbconvert_exporter": "python",
   "pygments_lexer": "ipython3",
   "version": "3.11.7"
  },
  "widgets": {
   "application/vnd.jupyter.widget-state+json": {
    "state": {},
    "version_major": 2,
    "version_minor": 0
   }
  }
 },
 "nbformat": 4,
 "nbformat_minor": 5
}
