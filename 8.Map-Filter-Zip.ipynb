{
 "cells": [
  {
   "cell_type": "code",
   "execution_count": null,
   "id": "879aeecd-27ed-4ef8-b413-f4fd1dfe4e35",
   "metadata": {},
   "outputs": [],
   "source": [
    "# Explanation of `map()`, `filter()`, and `zip()` in Python with Examples\n",
    "\n",
    "---\n",
    "\n",
    "### 1. `map()` – Apply a function to all items in an iterable  \n",
    "**Syntax:** `map(function, iterable)`  \n",
    "\n",
    "It returns a map object (which is an iterator), so we usually convert it to a list or tuple to see the results.\n",
    "\n",
    "**Example 1: Convert all strings to uppercase**  \n",
    "```python\n",
    "names = ['alice', 'bob', 'charlie']\n",
    "upper_names = list(map(str.upper, names))\n",
    "print(upper_names)\n",
    "# Output: ['ALICE', 'BOB', 'CHARLIE']\n"
   ]
  },
  {
   "cell_type": "code",
   "execution_count": 1,
   "id": "47944f8c-973b-4a5c-89c2-3785867dc574",
   "metadata": {},
   "outputs": [],
   "source": [
    "names = ['alice', 'bob', 'charlie']\n",
    "marks = [75, 85, 90]"
   ]
  },
  {
   "cell_type": "code",
   "execution_count": 4,
   "id": "b96de4d1-4ce2-4e9f-aefe-0c22129b95e4",
   "metadata": {},
   "outputs": [
    {
     "data": {
      "text/plain": [
       "[('alice', 75), ('bob', 85), ('charlie', 90)]"
      ]
     },
     "execution_count": 4,
     "metadata": {},
     "output_type": "execute_result"
    }
   ],
   "source": [
    "students = zip(names, marks)\n",
    "students\n",
    "list(students)"
   ]
  },
  {
   "cell_type": "code",
   "execution_count": 3,
   "id": "987df62b-16cb-40a9-8fc3-366921af3231",
   "metadata": {},
   "outputs": [
    {
     "name": "stdout",
     "output_type": "stream",
     "text": [
      "[('BOB', 85), ('CHARLIE', 90)]\n"
     ]
    }
   ],
   "source": [
    "names = ['alice', 'bob', 'charlie']\n",
    "marks = [75, 85, 90]\n",
    "\n",
    "# zip them together\n",
    "students = zip(names, marks)\n",
    "\n",
    "# filter based on marks > 80\n",
    "top_students = filter(lambda x: x[1] > 80, students)\n",
    "\n",
    "# map to uppercase names\n",
    "result = list(map(lambda x: (x[0].upper(), x[1]), top_students))\n",
    "print(result)\n",
    "# Output: [('BOB', 85), ('CHARLIE', 90)]"
   ]
  },
  {
   "cell_type": "code",
   "execution_count": null,
   "id": "b65302bc-6da2-45e9-86d4-834c4b3453b5",
   "metadata": {},
   "outputs": [],
   "source": []
  }
 ],
 "metadata": {
  "kernelspec": {
   "display_name": "Python 3 (ipykernel)",
   "language": "python",
   "name": "python3"
  },
  "language_info": {
   "codemirror_mode": {
    "name": "ipython",
    "version": 3
   },
   "file_extension": ".py",
   "mimetype": "text/x-python",
   "name": "python",
   "nbconvert_exporter": "python",
   "pygments_lexer": "ipython3",
   "version": "3.11.7"
  },
  "widgets": {
   "application/vnd.jupyter.widget-state+json": {
    "state": {},
    "version_major": 2,
    "version_minor": 0
   }
  }
 },
 "nbformat": 4,
 "nbformat_minor": 5
}
