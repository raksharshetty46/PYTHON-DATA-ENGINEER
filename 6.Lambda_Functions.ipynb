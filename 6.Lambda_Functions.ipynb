{
 "cells": [
  {
   "cell_type": "markdown",
   "id": "e9fcd4c3-7906-4dec-a3e1-3616b5d0edfe",
   "metadata": {},
   "source": [
    "## **Lambda Functions in Python – Explained Simply**\n",
    "\n",
    "---\n",
    "\n",
    "## **What is a Lambda Function?**\n",
    "- A **lambda function** is a small **anonymous function** in Python (i.e., a function without a name).\n",
    "- Lambda functions are used for **short, simple tasks** where defining a full `def` function would be unnecessary.\n",
    "\n",
    "---\n",
    "\n",
    "## **Syntax**\n",
    "\n",
    "```python\n",
    "lambda arguments: expression\n"
   ]
  },
  {
   "cell_type": "markdown",
   "id": "25f7eb52-953e-47bd-b6f9-c27f2e29f933",
   "metadata": {},
   "source": [
    "## **Example 1: Add Two Numbers**\n",
    "```\n",
    "add = lambda a, b: a + b\n",
    "print(add(5, 3))\n",
    "# Output: 8\n"
   ]
  },
  {
   "cell_type": "markdown",
   "id": "caee3094-69e3-4411-a989-c09126cbe79b",
   "metadata": {},
   "source": [
    "## **Example 2: Square of a Number**\n",
    "\n",
    "```\n",
    "square = lambda x:x**2\n",
    "print(square(10))"
   ]
  },
  {
   "cell_type": "markdown",
   "id": "6224abdb-655e-4847-9133-f9f0276fd8ad",
   "metadata": {},
   "source": [
    "## **Example 3: Check Even or Odd**\n",
    "\n",
    "```\n",
    "is_even = lambda x: x % 2 == 0\n",
    "print(is_even(6))  \n"
   ]
  },
  {
   "cell_type": "markdown",
   "id": "ad1aeb98-2616-4fef-9879-8142650916ab",
   "metadata": {},
   "source": [
    "## **Example 4:**"
   ]
  },
  {
   "cell_type": "markdown",
   "id": "b05d668a-240e-460d-92ef-75445c58546a",
   "metadata": {},
   "source": [
    "#### **What is map() in Python?**\n",
    "- map() is used to apply a function to every item in an iterable (like a list).\n",
    "- It returns a map object (which you usually convert to list() or tuple()).\n",
    "- Very useful in ETL pipelines, data cleaning, and transformation tasks.\n",
    "- Map Function is used when we are having list and we have to apply same function to each element of the list then we have to use map function.\n",
    "- Use map both for tuple and list (Both Are Applicable)\n",
    "\n",
    "#### **Syntax:**\n",
    "\n",
    "````\n",
    "map(function, iterable)\r\n"
   ]
  },
  {
   "cell_type": "markdown",
   "id": "ce6567f7-365c-4182-ba29-33633644f710",
   "metadata": {},
   "source": [
    "#### 1. Basic Example – Double each number\n",
    "\n"
   ]
  },
  {
   "cell_type": "code",
   "execution_count": 7,
   "id": "82affd53-da7d-4ed5-9e78-9e12149d9474",
   "metadata": {},
   "outputs": [
    {
     "name": "stdout",
     "output_type": "stream",
     "text": [
      "[2, 4, 6, 8]\n"
     ]
    }
   ],
   "source": [
    "numbers = [1,2,3,4]\n",
    "\n",
    "After = list(map(lambda x:x*2,numbers))\n",
    "print(After)"
   ]
  },
  {
   "cell_type": "markdown",
   "id": "e402ced0-da1c-4f71-b7ed-adc5d30b8879",
   "metadata": {},
   "source": [
    "#### 2. Convert numbers to strings"
   ]
  },
  {
   "cell_type": "code",
   "execution_count": 20,
   "id": "800dcb98-6be0-4072-b1b9-9265afdb17cb",
   "metadata": {},
   "outputs": [
    {
     "name": "stdout",
     "output_type": "stream",
     "text": [
      "['10', '20', '40', '50', '60', '70']\n"
     ]
    }
   ],
   "source": [
    "nums = [10,20,40,50,60,70]\n",
    "\n",
    "strings2 = list(map(lambda x:str(x),nums))\n",
    "print(strings2)"
   ]
  },
  {
   "cell_type": "markdown",
   "id": "b4244524-2156-4758-ad5a-663901de0c39",
   "metadata": {},
   "source": [
    "#### 3. Convert All Strings into Uppercase"
   ]
  },
  {
   "cell_type": "code",
   "execution_count": 22,
   "id": "f7aefa8a-6b1e-43e2-98f6-ea949d05b5a3",
   "metadata": {},
   "outputs": [
    {
     "data": {
      "text/plain": [
       "['DHEERAJ', 'DHEEKSHITHA', 'DEEYA', 'POOJA', 'ADHYA']"
      ]
     },
     "execution_count": 22,
     "metadata": {},
     "output_type": "execute_result"
    }
   ],
   "source": [
    "name = [\"Dheeraj\",\"Dheekshitha\",\"Deeya\",\"Pooja\",\"Adhya\"]\n",
    "\n",
    "new_list = list(map(lambda x:x.upper(),name))\n",
    "new_list"
   ]
  },
  {
   "cell_type": "markdown",
   "id": "0c299d59-67c5-4c98-b740-dcc1f64ef602",
   "metadata": {},
   "source": [
    "#### 4. Add 2 Lists Together\n"
   ]
  },
  {
   "cell_type": "code",
   "execution_count": 23,
   "id": "98b671a2-e73d-48a5-ae65-c82e4dacf9dd",
   "metadata": {},
   "outputs": [
    {
     "data": {
      "text/plain": [
       "[70, 90, 110, 130, 150]"
      ]
     },
     "execution_count": 23,
     "metadata": {},
     "output_type": "execute_result"
    }
   ],
   "source": [
    "list1 = [10,20,30,40,50]\n",
    "list2 = [60,70,80,90,100]\n",
    "\n",
    "new_list =list(map(lambda x,y:x+y,list1,list2))\n",
    "new_list"
   ]
  },
  {
   "cell_type": "markdown",
   "id": "d6450549-d4e3-470d-bdcd-2e3a74f888ed",
   "metadata": {},
   "source": [
    "#### 5. Clean up data (remove spaces)"
   ]
  },
  {
   "cell_type": "code",
   "execution_count": 25,
   "id": "fb842614-ec16-43fd-8f50-fbab478d5598",
   "metadata": {},
   "outputs": [
    {
     "name": "stdout",
     "output_type": "stream",
     "text": [
      "['apple', 'banana', 'mango']\n"
     ]
    }
   ],
   "source": [
    "raw_data = [' apple ', ' banana ', ' mango ']\n",
    "cleaned = list(map(lambda x: x.strip(), raw_data))\n",
    "print(cleaned)  # Output: ['apple', 'banana', 'mango']"
   ]
  },
  {
   "cell_type": "markdown",
   "id": "705fac27-2416-4782-aa9b-8b0265bb6e76",
   "metadata": {},
   "source": [
    "#### 6. Extract first letter of each word"
   ]
  },
  {
   "cell_type": "code",
   "execution_count": 27,
   "id": "8266e850-fbda-4549-85b6-61698555efe3",
   "metadata": {},
   "outputs": [
    {
     "name": "stdout",
     "output_type": "stream",
     "text": [
      "('D', 'E', 'P')\n"
     ]
    }
   ],
   "source": [
    "words = ['Data', 'Engineer', 'Python']\n",
    "initials = tuple(map(lambda w: w[0], words))\n",
    "print(initials)  # Output: ['D', 'E', 'P']"
   ]
  },
  {
   "cell_type": "markdown",
   "id": "98d156cf-fd3f-49dd-8f66-09b66bd52357",
   "metadata": {},
   "source": [
    "#### 7. Convert temperature Celsius → Fahrenheit"
   ]
  },
  {
   "cell_type": "code",
   "execution_count": 28,
   "id": "1789d95c-43ee-44be-a0fe-5c2739050267",
   "metadata": {},
   "outputs": [
    {
     "name": "stdout",
     "output_type": "stream",
     "text": [
      "[32.0, 68.0, 86.0, 104.0]\n"
     ]
    }
   ],
   "source": [
    "celsius = [0, 20, 30, 40]\n",
    "fahrenheit = list(map(lambda c: (c * 9/5) + 32, celsius))\n",
    "print(fahrenheit)  # Output: [32.0, 68.0, 86.0, 104.0]"
   ]
  },
  {
   "cell_type": "markdown",
   "id": "a541c484-b317-4104-8b82-a8a7fb66b8ad",
   "metadata": {},
   "source": [
    "#### 8. Use with def instead of lambda"
   ]
  },
  {
   "cell_type": "code",
   "execution_count": 29,
   "id": "5075036f-23bd-4db5-959f-8a33a632acc3",
   "metadata": {},
   "outputs": [
    {
     "name": "stdout",
     "output_type": "stream",
     "text": [
      "[3, 6, 9]\n"
     ]
    }
   ],
   "source": [
    "def triple(x):\n",
    "    return x * 3\n",
    "\n",
    "nums = [1, 2, 3]\n",
    "tripled = list(map(triple, nums))\n",
    "print(tripled)  # Output: [3, 6, 9]"
   ]
  },
  {
   "cell_type": "markdown",
   "id": "ba7466fc-7d05-4972-9ffb-aecb53e56b5e",
   "metadata": {},
   "source": [
    "#### 9. Working with tuples (add corresponding elements)"
   ]
  },
  {
   "cell_type": "code",
   "execution_count": null,
   "id": "1e45d5de-9511-4eab-a2dc-fdee6fd5c066",
   "metadata": {},
   "outputs": [],
   "source": [
    "list1 = [(1, 2), (3, 4), (5, 6)]\n",
    "sums = list(map(lambda t: t[0] + t[1], list1))\n",
    "print(sums)  # Output: [3, 7, 11]"
   ]
  }
 ],
 "metadata": {
  "kernelspec": {
   "display_name": "Python 3 (ipykernel)",
   "language": "python",
   "name": "python3"
  },
  "language_info": {
   "codemirror_mode": {
    "name": "ipython",
    "version": 3
   },
   "file_extension": ".py",
   "mimetype": "text/x-python",
   "name": "python",
   "nbconvert_exporter": "python",
   "pygments_lexer": "ipython3",
   "version": "3.11.7"
  },
  "widgets": {
   "application/vnd.jupyter.widget-state+json": {
    "state": {},
    "version_major": 2,
    "version_minor": 0
   }
  }
 },
 "nbformat": 4,
 "nbformat_minor": 5
}
