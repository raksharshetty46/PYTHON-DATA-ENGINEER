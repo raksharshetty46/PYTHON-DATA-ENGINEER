{
 "cells": [
  {
   "cell_type": "markdown",
   "id": "824d4049-d392-40b7-bd5e-8f366cff7e9c",
   "metadata": {},
   "source": [
    "## **Python Lists: Creation, Indexing, Slicing, and Common Methods**\n",
    "\n",
    "- Lists are one of the most versatile and commonly used data structures in Python.  \n",
    "- They are **ordered**, **mutable** (changeable) collections of items.  \n",
    "- This means you can add, remove, or modify elements after the list has been created.\n",
    "\n",
    "---\n",
    "\n",
    "#### **1. Creation**\n",
    "\n",
    "- You can create a list in a few ways:\n",
    "- **Using square brackets `[]`**: This is the most common way.\n",
    "\n",
    "```python\n",
    "my_list = [1, 2, 3, \"hello\", True]\n",
    "empty_list = []\n"
   ]
  },
  {
   "cell_type": "markdown",
   "id": "8a996b86-0a20-488a-aec4-10d22cbdd6e5",
   "metadata": {},
   "source": [
    "**Using the list() constructor:**\n",
    "\n",
    "````\n",
    "another_list = list((10, 20, 30))  # From a tuple\n",
    "string_to_list = list(\"python\")   # From a string (each character becomes an item)"
   ]
  },
  {
   "cell_type": "markdown",
   "id": "7bedbbe7-30b3-4f50-9026-e02fff774bea",
   "metadata": {},
   "source": [
    "-------------\n",
    "\n",
    "#### **2. Indexing**\n",
    "\n",
    "Each item in a list has an index, which is its position in the list.  \n",
    "Python uses **zero-based indexing**, meaning the first item is at index `0`.\n",
    "\n",
    "##### **🔹 Positive Indexing**\n",
    "Starts from the beginning of the list (`0, 1, 2...`).\n",
    "\n",
    "```python\n",
    "my_list = ['apple', 'banana', 'cherry', 'date']\n",
    "print(my_list[0])  # Output: apple\n",
    "print(my_list[2])  # Output: cherry\n"
   ]
  },
  {
   "cell_type": "markdown",
   "id": "ab633f62-1f54-46b0-9715-a552f29aa817",
   "metadata": {},
   "source": [
    "##### **🔹 Negative Indexing**\n",
    "Starts from the end of the list (-1, -2, -3...).\n",
    "\n",
    "````\n",
    "my_list = ['apple', 'banana', 'cherry', 'date']\n",
    "print(my_list[-1]) # Output: date\n",
    "print(my_list[-3]) # Output: banana"
   ]
  },
  {
   "cell_type": "markdown",
   "id": "2d74fae9-8cc8-4f1f-be7f-49acd7592451",
   "metadata": {},
   "source": [
    "------------------\n",
    "\n",
    "#### **3. Slicing**\n",
    "\n",
    "Slicing allows you to extract a portion (a \"slice\") of a list.  \n",
    "**Syntax**: `list[start:end:step]`\n",
    "\n",
    "- `start`: The starting index (inclusive). If omitted, defaults to `0`.\n",
    "- `end`: The ending index (exclusive). If omitted, defaults to the end.\n",
    "- `step`: The step size (how many items to jump). If omitted, defaults to `1`.\n",
    "\n",
    "```python\n",
    "numbers = [0, 1, 2, 3, 4, 5, 6, 7, 8, 9]\n",
    "\n",
    "print(numbers[2:7])    # [2, 3, 4, 5, 6]\n",
    "print(numbers[:5])     # [0, 1, 2, 3, 4]\n",
    "print(numbers[5:])     # [5, 6, 7, 8, 9]\n",
    "print(numbers[:])      # [0, 1, 2, 3, 4, 5, 6, 7, 8, 9]\n",
    "print(numbers[1:8:2])  # [1, 3, 5, 7]\n",
    "print(numbers[::-1])   # [9, 8, 7, 6, 5, 4, 3, 2, 1, 0]\n"
   ]
  },
  {
   "cell_type": "markdown",
   "id": "4248fba4-07f1-4026-9e7d-df70e93eb18f",
   "metadata": {},
   "source": [
    "#### **Common List Methods**\n",
    "\n",
    "Here are some of the most frequently used list methods:\n",
    "\n",
    "* **`append(item)`**\n",
    "    Adds a single `item` to the end of the list.\n",
    "\n",
    "    ```python\n",
    "    my_list = [1, 2, 3]\n",
    "    my_list.append(4)\n",
    "    print(my_list)  # [1, 2, 3, 4]\n",
    "    ```\n"
   ]
  },
  {
   "cell_type": "markdown",
   "id": "3ee8fcc7-0727-4907-b696-a5a6806e7fe5",
   "metadata": {},
   "source": [
    "\n",
    "* **`extend(iterable)`**\n",
    "    Appends all items from an `iterable` (like another list, tuple, or string) to the end of the current list.\n",
    "\n",
    "    ```python\n",
    "    list1 = [1, 2, 3]\n",
    "    list2 = [4, 5]\n",
    "    list1.extend(list2)\n",
    "    print(list1)  # [1, 2, 3, 4, 5]\n",
    "\n",
    "    list1.extend(\"abc\")\n",
    "    print(list1)  # [1, 2, 3, 4, 5, 'a', 'b', 'c']\n",
    "    ```"
   ]
  },
  {
   "cell_type": "markdown",
   "id": "0a9f006d-3ef6-4339-8760-784b5c133aaa",
   "metadata": {},
   "source": [
    "\n",
    "* **`insert(index, item)`**\n",
    "    Inserts an `item` at a specified `index`.\n",
    "\n",
    "    ```python\n",
    "    my_list = ['a', 'b', 'd']\n",
    "    my_list.insert(2, 'c')  # Insert 'c' at index 2\n",
    "    print(my_list)  # ['a', 'b', 'c', 'd']\n",
    "    ```\n",
    "\n"
   ]
  },
  {
   "cell_type": "markdown",
   "id": "81df30fb-aec0-4a0e-b37f-1d6b3be62777",
   "metadata": {},
   "source": [
    "* **`remove(item)`**\n",
    "    Removes the first occurrence of the specified `item` from the list. Raises a `ValueError` if the item is not found.\n",
    "\n",
    "    ```python\n",
    "    my_list = [1, 2, 3, 2, 4]\n",
    "    my_list.remove(2)\n",
    "    print(my_list)  # [1, 3, 2, 4]\n",
    "    ```\n"
   ]
  },
  {
   "cell_type": "markdown",
   "id": "71aa8204-2b42-4400-9d08-6453b37aa1c6",
   "metadata": {},
   "source": [
    "* **`pop(index=-1)`**\n",
    "    Removes and returns the item at the given `index`. If no `index` is specified, it removes and returns the last item.\n",
    "\n",
    "    ```python\n",
    "    my_list = ['apple', 'banana', 'cherry']\n",
    "    removed_item = my_list.pop(1) # Remove item at index 1\n",
    "    print(my_list)      # ['apple', 'cherry']\n",
    "    print(removed_item) # banana\n",
    "\n",
    "    last_item = my_list.pop() # Remove the last item\n",
    "    print(my_list)      # ['apple']\n",
    "    print(last_item)    # cherry\n",
    "    ```\n"
   ]
  },
  {
   "cell_type": "markdown",
   "id": "558b3e82-c03a-4eb1-af08-e0e96c91974f",
   "metadata": {},
   "source": [
    "* **`sort(key=None, reverse=False)`**\n",
    "    Sorts the items of the list in ascending order by default.\n",
    "    * `key`: A function to specify a custom sort order.\n",
    "    * `reverse`: If `True`, sorts in descending order.\n",
    "\n",
    "    ```python\n",
    "    numbers = [3, 1, 4, 1, 5, 9, 2, 6]\n",
    "    numbers.sort()\n",
    "    print(numbers)  # [1, 1, 2, 3, 4, 5, 6, 9]\n",
    "\n",
    "    words = ['banana', 'apple', 'cherry']\n",
    "    words.sort(reverse=True)\n",
    "    print(words)  # ['cherry', 'banana', 'apple']\n",
    "\n",
    "    # Sorting based on string length\n",
    "    words = ['apple', 'banana', 'kiwi', 'grape']\n",
    "    words.sort(key=len)\n",
    "    print(words)  # ['kiwi', 'apple', 'grape', 'banana']\n",
    "    ```\n",
    "    **Note:** `sort()` modifies the list in-place and returns `None`. To create a new sorted list without modifying the original, use the built-in `sorted()` function.\n",
    "\n"
   ]
  },
  {
   "cell_type": "markdown",
   "id": "833f4675-9acf-4b90-881f-30ae3cb89f33",
   "metadata": {},
   "source": [
    "* **`len(list)` (Built-in function, not a method)**\n",
    "    Returns the number of items (length) in the list.\n",
    "\n",
    "    ```python\n",
    "    my_list = [10, 20, 30, 40, 50]\n",
    "    print(len(my_list))  # 5\n",
    "    ```\n",
    "\n",
    "\n",
    "\n",
    "-----------------------------------"
   ]
  },
  {
   "cell_type": "code",
   "execution_count": null,
   "id": "f7d3f7c8-5f15-4681-b85c-116fc3e6142f",
   "metadata": {},
   "outputs": [],
   "source": []
  }
 ],
 "metadata": {
  "kernelspec": {
   "display_name": "Python 3 (ipykernel)",
   "language": "python",
   "name": "python3"
  },
  "language_info": {
   "codemirror_mode": {
    "name": "ipython",
    "version": 3
   },
   "file_extension": ".py",
   "mimetype": "text/x-python",
   "name": "python",
   "nbconvert_exporter": "python",
   "pygments_lexer": "ipython3",
   "version": "3.11.7"
  },
  "widgets": {
   "application/vnd.jupyter.widget-state+json": {
    "state": {},
    "version_major": 2,
    "version_minor": 0
   }
  }
 },
 "nbformat": 4,
 "nbformat_minor": 5
}
