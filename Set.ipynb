{
 "cells": [
  {
   "cell_type": "markdown",
   "id": "d9e7d785-7161-46e1-8cdc-7f26ef685f75",
   "metadata": {},
   "source": [
    "## **Creating Set**"
   ]
  },
  {
   "cell_type": "code",
   "execution_count": 17,
   "id": "2225ba31-c683-4828-878a-cd3a8ee59c37",
   "metadata": {},
   "outputs": [],
   "source": [
    "s = {1,2,3,4,5,6,7,8,9,10}"
   ]
  },
  {
   "cell_type": "code",
   "execution_count": 18,
   "id": "37e36b61-418d-4edc-b621-2ef5f3a4fb0e",
   "metadata": {},
   "outputs": [],
   "source": [
    "s1 = set([1,2,3,4,5,6,7,8,9,10])"
   ]
  },
  {
   "cell_type": "markdown",
   "id": "0cf36564-74f1-4f9b-8dd7-5904b73e1a58",
   "metadata": {},
   "source": [
    "## **Adding Elements**"
   ]
  },
  {
   "cell_type": "code",
   "execution_count": 19,
   "id": "48a57fcc-6fc2-4347-9f4c-f1dfde7d3c63",
   "metadata": {},
   "outputs": [
    {
     "data": {
      "text/plain": [
       "{1, 2, 3, 4, 5, 6, 7, 8, 9, 10, 11}"
      ]
     },
     "execution_count": 19,
     "metadata": {},
     "output_type": "execute_result"
    }
   ],
   "source": [
    "s.add(11)\n",
    "s"
   ]
  },
  {
   "cell_type": "markdown",
   "id": "c3eba0f3-a1d4-437d-9d2c-8f44d9f4916e",
   "metadata": {},
   "source": [
    "## **Removing Elements**"
   ]
  },
  {
   "cell_type": "code",
   "execution_count": 20,
   "id": "1c047522-a6ec-4284-a5a6-19d27ce9a1c8",
   "metadata": {},
   "outputs": [
    {
     "data": {
      "text/plain": [
       "{1, 2, 4, 5, 6, 7, 8, 9, 10, 11}"
      ]
     },
     "execution_count": 20,
     "metadata": {},
     "output_type": "execute_result"
    }
   ],
   "source": [
    "s.remove(3) # Raise Key Error If not Present\n",
    "s"
   ]
  },
  {
   "cell_type": "code",
   "execution_count": 21,
   "id": "5de11992-e76b-4ff5-bf44-4b3bb47b3ec5",
   "metadata": {},
   "outputs": [
    {
     "data": {
      "text/plain": [
       "{1, 2, 4, 5, 6, 7, 8, 9, 11}"
      ]
     },
     "execution_count": 21,
     "metadata": {},
     "output_type": "execute_result"
    }
   ],
   "source": [
    "s.discard(10) # Not Raise Error If not Present\n",
    "s"
   ]
  },
  {
   "cell_type": "markdown",
   "id": "155499fc-a545-4759-846f-6dc8b58c48da",
   "metadata": {},
   "source": [
    "## **Set Operations**"
   ]
  },
  {
   "cell_type": "code",
   "execution_count": 22,
   "id": "305db3ee-4c44-41c3-b70f-c124a3f64ee8",
   "metadata": {},
   "outputs": [],
   "source": [
    "s2 = {1,2,3,4,5,6}\n",
    "s4 = {4,5,6,7,8}"
   ]
  },
  {
   "cell_type": "markdown",
   "id": "270f0f17-76a8-405a-ab33-f406a73ffcdb",
   "metadata": {},
   "source": [
    "#### **`1. Union`**"
   ]
  },
  {
   "cell_type": "code",
   "execution_count": 23,
   "id": "04907180-eb98-4d35-aa61-9c1214907b0f",
   "metadata": {},
   "outputs": [
    {
     "data": {
      "text/plain": [
       "{1, 2, 3, 4, 5, 6, 7, 8, 9, 10}"
      ]
     },
     "execution_count": 23,
     "metadata": {},
     "output_type": "execute_result"
    }
   ],
   "source": [
    "s2.union(s4)"
   ]
  },
  {
   "cell_type": "markdown",
   "id": "427157ee-4dfe-40e2-a3ac-65de80da1121",
   "metadata": {},
   "source": [
    "#### **`2. Intersection`**"
   ]
  },
  {
   "cell_type": "code",
   "execution_count": 26,
   "id": "eeed616e-d04b-4429-b013-be26c1d21883",
   "metadata": {},
   "outputs": [
    {
     "data": {
      "text/plain": [
       "{4, 5, 6}"
      ]
     },
     "execution_count": 26,
     "metadata": {},
     "output_type": "execute_result"
    }
   ],
   "source": [
    "s2.intersection(s4)"
   ]
  },
  {
   "cell_type": "markdown",
   "id": "a9b5c629-3731-4231-a749-30ee80821643",
   "metadata": {},
   "source": [
    "#### **`3. Difference`**"
   ]
  },
  {
   "cell_type": "code",
   "execution_count": 30,
   "id": "5ed687f8-46de-47a0-83b1-5495564e1846",
   "metadata": {},
   "outputs": [
    {
     "data": {
      "text/plain": [
       "{1, 2, 3}"
      ]
     },
     "execution_count": 30,
     "metadata": {},
     "output_type": "execute_result"
    }
   ],
   "source": [
    "s2.difference(s4)"
   ]
  },
  {
   "cell_type": "code",
   "execution_count": 31,
   "id": "2aff151c-fff9-45a8-aae1-71fbfd550823",
   "metadata": {},
   "outputs": [
    {
     "data": {
      "text/plain": [
       "{7, 8}"
      ]
     },
     "execution_count": 31,
     "metadata": {},
     "output_type": "execute_result"
    }
   ],
   "source": [
    "s4.difference(s2)"
   ]
  },
  {
   "cell_type": "markdown",
   "id": "ac0a8e22-2c66-434d-8e34-f0bc69312190",
   "metadata": {},
   "source": [
    "#### **`4. Symmetric Difference`**"
   ]
  },
  {
   "cell_type": "code",
   "execution_count": 33,
   "id": "13fc822e-1edd-4bd1-ac8c-6f66c33e60e4",
   "metadata": {},
   "outputs": [
    {
     "data": {
      "text/plain": [
       "{1, 2, 3, 7, 8}"
      ]
     },
     "execution_count": 33,
     "metadata": {},
     "output_type": "execute_result"
    }
   ],
   "source": [
    "s2 ^ s4"
   ]
  },
  {
   "cell_type": "code",
   "execution_count": 34,
   "id": "ada2aff8-9663-4842-955d-286910f40087",
   "metadata": {},
   "outputs": [
    {
     "data": {
      "text/plain": [
       "{1, 2, 3, 7, 8}"
      ]
     },
     "execution_count": 34,
     "metadata": {},
     "output_type": "execute_result"
    }
   ],
   "source": [
    "s4 ^ s2"
   ]
  },
  {
   "cell_type": "code",
   "execution_count": null,
   "id": "fe0b8d75-4164-4c1a-9d07-d6ee081aaa6e",
   "metadata": {},
   "outputs": [],
   "source": []
  }
 ],
 "metadata": {
  "kernelspec": {
   "display_name": "Python 3 (ipykernel)",
   "language": "python",
   "name": "python3"
  },
  "language_info": {
   "codemirror_mode": {
    "name": "ipython",
    "version": 3
   },
   "file_extension": ".py",
   "mimetype": "text/x-python",
   "name": "python",
   "nbconvert_exporter": "python",
   "pygments_lexer": "ipython3",
   "version": "3.11.7"
  },
  "widgets": {
   "application/vnd.jupyter.widget-state+json": {
    "state": {},
    "version_major": 2,
    "version_minor": 0
   }
  }
 },
 "nbformat": 4,
 "nbformat_minor": 5
}
