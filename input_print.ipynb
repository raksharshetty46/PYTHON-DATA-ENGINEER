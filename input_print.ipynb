{
 "cells": [
  {
   "cell_type": "code",
   "execution_count": 1,
   "id": "6c459ff2-2373-497c-890a-f2fbf7758b8a",
   "metadata": {},
   "outputs": [
    {
     "name": "stdout",
     "output_type": "stream",
     "text": [
      "Abc\n"
     ]
    }
   ],
   "source": [
    "print(\"Abc\")"
   ]
  },
  {
   "cell_type": "code",
   "execution_count": 2,
   "id": "90006a5d-c5bf-49e3-bdd1-699190cbb4e0",
   "metadata": {},
   "outputs": [
    {
     "name": "stdout",
     "output_type": "stream",
     "text": [
      "12\n"
     ]
    }
   ],
   "source": [
    "print(12)"
   ]
  },
  {
   "cell_type": "code",
   "execution_count": 3,
   "id": "311f193a-c85f-491c-b79c-881821d29a65",
   "metadata": {},
   "outputs": [
    {
     "name": "stdout",
     "output_type": "stream",
     "text": [
      "20\n"
     ]
    }
   ],
   "source": [
    "print(10+10)"
   ]
  },
  {
   "cell_type": "code",
   "execution_count": 4,
   "id": "7013fb29-678c-429e-8071-e56341baa2a0",
   "metadata": {},
   "outputs": [
    {
     "name": "stdout",
     "output_type": "stream",
     "text": [
      "My Name is:abc, My Age is 21\n"
     ]
    }
   ],
   "source": [
    "Name = \"abc\"\n",
    "age = 21\n",
    "print(f\"My Name is:{Name}, My Age is {age}\")"
   ]
  },
  {
   "cell_type": "code",
   "execution_count": 6,
   "id": "dd2469ef-cbc0-416e-bd66-23ebf6c6c760",
   "metadata": {},
   "outputs": [
    {
     "name": "stdout",
     "output_type": "stream",
     "text": [
      "user@example.com\n"
     ]
    }
   ],
   "source": [
    "print(\"user\",\"example.com\",sep=\"@\")"
   ]
  },
  {
   "cell_type": "code",
   "execution_count": 7,
   "id": "3657f120-e172-4783-a58a-8edfedc0a1b9",
   "metadata": {},
   "outputs": [
    {
     "name": "stdout",
     "output_type": "stream",
     "text": [
      "06/04/2004\n"
     ]
    }
   ],
   "source": [
    "print(\"06\",\"04\",\"2004\",sep=\"/\")"
   ]
  },
  {
   "cell_type": "code",
   "execution_count": 8,
   "id": "ddcf559b-97fc-4320-95d0-12a8e9b6a74a",
   "metadata": {},
   "outputs": [
    {
     "name": "stdout",
     "output_type": "stream",
     "text": [
      "Abc 21\n"
     ]
    }
   ],
   "source": [
    "print(\"Abc\",end = \" \")\n",
    "print(21)"
   ]
  },
  {
   "cell_type": "code",
   "execution_count": null,
   "id": "e0a3c184-291b-44d2-94ca-9bcb75d4f9b8",
   "metadata": {},
   "outputs": [],
   "source": []
  }
 ],
 "metadata": {
  "kernelspec": {
   "display_name": "Python 3 (ipykernel)",
   "language": "python",
   "name": "python3"
  },
  "language_info": {
   "codemirror_mode": {
    "name": "ipython",
    "version": 3
   },
   "file_extension": ".py",
   "mimetype": "text/x-python",
   "name": "python",
   "nbconvert_exporter": "python",
   "pygments_lexer": "ipython3",
   "version": "3.11.7"
  },
  "widgets": {
   "application/vnd.jupyter.widget-state+json": {
    "state": {},
    "version_major": 2,
    "version_minor": 0
   }
  }
 },
 "nbformat": 4,
 "nbformat_minor": 5
}
